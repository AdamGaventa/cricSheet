{
 "cells": [
  {
   "cell_type": "markdown",
   "metadata": {},
   "source": [
    "# Batting collapse frequency. Are England unique?"
   ]
  },
  {
   "cell_type": "markdown",
   "metadata": {},
   "source": [
    "### Research Question:\n",
    "- How often do batting collapses happen?\n",
    "- Does England collapse more often that other teams?\n",
    "- Is this statement true? \"Joe Root rarely stops a collapse, and is often a part of it\"\n",
    "- Which players are best at stopping a collapse?\n",
    "\n",
    "\n",
    "### Methodology:\n",
    "- Create a table of fall of wicket:\n",
    "    - MatchID\n",
    "    - Date\n",
    "    - Batting team\n",
    "    - Bowling team\n",
    "    - Match type\n",
    "    - Innings\n",
    "    - Fall of Wicket 1 (runs, batsman)\n",
    "    - Fall of Wicket 2 (runs, batsman)\n",
    "    - etc.\n"
   ]
  },
  {
   "cell_type": "markdown",
   "metadata": {},
   "source": [
    "### Problem breakdown:\n",
    "- Data Source: howstat cricket scorecards\n",
    "- Extract Fall Of Wickets from a single game\n",
    "- Extract FoW from multiple games\n",
    "- Extract FoW from all (relevant) games"
   ]
  },
  {
   "cell_type": "code",
   "execution_count": 1,
   "metadata": {},
   "outputs": [],
   "source": [
    "from cricsheet.io_html.BaseParser import BaseParser\n",
    "from cricsheet.io_html.MatchParser import MatchParser"
   ]
  },
  {
   "cell_type": "code",
   "execution_count": 2,
   "metadata": {},
   "outputs": [
    {
     "name": "stdout",
     "output_type": "stream",
     "text": [
      "Reading html\n",
      "read url: http://howstat.com/cricket/Statistics/Matches/MatchScorecard.asp?MatchCode=1800\n",
      "Reading soup\n",
      "read soup\n"
     ]
    }
   ],
   "source": [
    "a = BaseParser(url=\"http://howstat.com/cricket/Statistics/Matches/MatchScorecard.asp?MatchCode=1800\")\n",
    "a.execute()\n",
    "#print(a)\n",
    "#print(a.url)"
   ]
  },
  {
   "cell_type": "code",
   "execution_count": 3,
   "metadata": {},
   "outputs": [
    {
     "name": "stdout",
     "output_type": "stream",
     "text": [
      "read url: http://howstat.com/cricket/Statistics/Matches/MatchScorecard.asp?MatchCode=2400\n",
      "read soup\n",
      "Parsed scorecard for: England 1st innings\n",
      "Parsed scorecard for: South Africa 1st innings\n",
      "Parsed scorecard for: England 2nd innings\n",
      "Parsed scorecard for: South Africa 2nd innings\n",
      "Parsed FoW\n",
      "Parsed FoW\n",
      "Parsed FoW\n",
      "Parsed FoW\n",
      "There are 4 innings with fall of wicket data\n"
     ]
    }
   ],
   "source": [
    "b = MatchParser(2400)\n",
    "b.execute()\n",
    "#print(b)\n",
    "#print(b.url)"
   ]
  },
  {
   "cell_type": "code",
   "execution_count": 7,
   "metadata": {},
   "outputs": [
    {
     "data": {
      "text/plain": [
       "{'Match Date:': datetime.date(2020, 1, 3),\n",
       " 'Venue:': 'Newlands, Cape Town',\n",
       " 'Toss:': 'England',\n",
       " 'Result:': 'England won by 189 runs',\n",
       " 'Player of Match:': 'B A Stokes'}"
      ]
     },
     "execution_count": 7,
     "metadata": {},
     "output_type": "execute_result"
    }
   ],
   "source": [
    "b.match_info"
   ]
  },
  {
   "cell_type": "code",
   "execution_count": null,
   "metadata": {},
   "outputs": [],
   "source": []
  },
  {
   "cell_type": "code",
   "execution_count": null,
   "metadata": {},
   "outputs": [],
   "source": []
  },
  {
   "cell_type": "code",
   "execution_count": null,
   "metadata": {},
   "outputs": [],
   "source": []
  },
  {
   "cell_type": "code",
   "execution_count": 12,
   "metadata": {},
   "outputs": [
    {
     "data": {
      "text/plain": [
       "'HTML structure: \\n    innings + team name\\n    innings scorecard\\n    fall of wickets\\n    innings + team name\\n    innings scorecard\\n    fall of wickets\\n    \\n    etc.\\n    \\n    \\nProcedure:\\nGet this table:\\n    Read innings + team name (s)\\n    Read the scorecard (s)\\n    Read the FoW (s)\\n    Split by innings + team name.\\nReformat into readable table\\n'"
      ]
     },
     "execution_count": 12,
     "metadata": {},
     "output_type": "execute_result"
    }
   ],
   "source": [
    "# FoW\n",
    "\"\"\"HTML structure: \n",
    "    innings + team name\n",
    "    innings scorecard\n",
    "    fall of wickets\n",
    "    innings + team name\n",
    "    innings scorecard\n",
    "    fall of wickets\n",
    "    \n",
    "    etc.\n",
    "    \n",
    "    \n",
    "Procedure:\n",
    "Get this table:\n",
    "    Read innings + team name (s)\n",
    "    Read the scorecard (s)\n",
    "    Read the FoW (s)\n",
    "    Split by innings + team name.\n",
    "Reformat into readable table\n",
    "\"\"\"\n",
    "\n",
    "\n"
   ]
  },
  {
   "cell_type": "code",
   "execution_count": null,
   "metadata": {},
   "outputs": [],
   "source": []
  }
 ],
 "metadata": {
  "kernelspec": {
   "display_name": "Python 3",
   "language": "python",
   "name": "python3"
  },
  "language_info": {
   "codemirror_mode": {
    "name": "ipython",
    "version": 3
   },
   "file_extension": ".py",
   "mimetype": "text/x-python",
   "name": "python",
   "nbconvert_exporter": "python",
   "pygments_lexer": "ipython3",
   "version": "3.8.5"
  }
 },
 "nbformat": 4,
 "nbformat_minor": 4
}
