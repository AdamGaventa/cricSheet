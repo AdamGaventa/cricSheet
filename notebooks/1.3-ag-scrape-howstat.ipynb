{
 "cells": [
  {
   "cell_type": "markdown",
   "metadata": {},
   "source": [
    "# Batting collapse frequency. Are England unique?"
   ]
  },
  {
   "cell_type": "markdown",
   "metadata": {},
   "source": [
    "### Research Question:\n",
    "- How often do batting collapses happen?\n",
    "- Does England collapse more often that other teams?\n",
    "- Is this statement true? \"Joe Root rarely stops a collapse, and is often a part of it\"\n",
    "- Which players are best at stopping a collapse?\n",
    "\n",
    "\n",
    "### Methodology:\n",
    "- Create a table of fall of wicket:\n",
    "    - MatchID\n",
    "    - Date\n",
    "    - Batting team\n",
    "    - Bowling team\n",
    "    - Match type\n",
    "    - Innings\n",
    "    - Fall of Wicket 1 (runs, batsman)\n",
    "    - Fall of Wicket 2 (runs, batsman)\n",
    "    - etc.\n"
   ]
  },
  {
   "cell_type": "markdown",
   "metadata": {},
   "source": [
    "### Problem breakdown:\n",
    "- Data Source: howstat cricket scorecards\n",
    "- Extract Fall Of Wickets from a single game\n",
    "- Extract FoW from multiple games\n",
    "- Extract FoW from all (relevant) games"
   ]
  },
  {
   "cell_type": "code",
   "execution_count": 6,
   "metadata": {},
   "outputs": [],
   "source": [
    "from cricsheet.io_html.BaseParser import BaseParser\n",
    "from cricsheet.io_html.MatchParser import MatchParser\n",
    "\n",
    "import logging"
   ]
  },
  {
   "cell_type": "code",
   "execution_count": 7,
   "metadata": {},
   "outputs": [
    {
     "name": "stderr",
     "output_type": "stream",
     "text": [
      "INFO:cricsheet.io_html.MatchParser:Parsing Match: 2400\n",
      "INFO:cricsheet:Saved data from Match: 2400\n",
      "INFO:cricsheet.io_html.MatchParser:Parsing Match: 2401\n",
      "INFO:cricsheet:Saved data from Match: 2401\n",
      "INFO:cricsheet.io_html.MatchParser:Parsing Match: 2402\n",
      "INFO:cricsheet:Saved data from Match: 2402\n",
      "INFO:cricsheet.io_html.MatchParser:Parsing Match: 2403\n",
      "INFO:cricsheet:Saved data from Match: 2403\n",
      "INFO:cricsheet.io_html.MatchParser:Parsing Match: 2404\n",
      "INFO:cricsheet:Saved data from Match: 2404\n",
      "INFO:cricsheet.io_html.MatchParser:Parsing Match: 2405\n",
      "INFO:cricsheet:Saved data from Match: 2405\n",
      "INFO:cricsheet.io_html.MatchParser:Parsing Match: 2406\n",
      "INFO:cricsheet:Saved data from Match: 2406\n",
      "INFO:cricsheet.io_html.MatchParser:Parsing Match: 2407\n",
      "INFO:cricsheet:Saved data from Match: 2407\n",
      "INFO:cricsheet.io_html.MatchParser:Parsing Match: 2408\n",
      "INFO:cricsheet:Saved data from Match: 2408\n",
      "INFO:cricsheet.io_html.MatchParser:Parsing Match: 2409\n",
      "INFO:cricsheet:Saved data from Match: 2409\n",
      "INFO:cricsheet.io_html.MatchParser:Parsing Match: 2410\n",
      "INFO:cricsheet:Saved data from Match: 2410\n",
      "INFO:cricsheet.io_html.MatchParser:Parsing Match: 2411\n",
      "INFO:cricsheet:Saved data from Match: 2411\n",
      "INFO:cricsheet.io_html.MatchParser:Parsing Match: 2412\n",
      "INFO:cricsheet:Saved data from Match: 2412\n",
      "INFO:cricsheet.io_html.MatchParser:Parsing Match: 2413\n",
      "INFO:cricsheet:Saved data from Match: 2413\n",
      "INFO:cricsheet.io_html.MatchParser:Parsing Match: 2414\n",
      "INFO:cricsheet:Saved data from Match: 2414\n",
      "INFO:cricsheet.io_html.MatchParser:Parsing Match: 2415\n",
      "INFO:cricsheet:Saved data from Match: 2415\n",
      "INFO:cricsheet.io_html.MatchParser:Parsing Match: 2416\n",
      "INFO:cricsheet:Saved data from Match: 2416\n",
      "INFO:cricsheet.io_html.MatchParser:Parsing Match: 2417\n",
      "INFO:cricsheet:Saved data from Match: 2417\n",
      "INFO:cricsheet.io_html.MatchParser:Parsing Match: 2418\n",
      "INFO:cricsheet:Saved data from Match: 2418\n",
      "INFO:cricsheet.io_html.MatchParser:Parsing Match: 2419\n",
      "INFO:cricsheet:Saved data from Match: 2419\n"
     ]
    }
   ],
   "source": [
    "logging.basicConfig(level=logging.INFO)\n",
    "log = logging.getLogger('cricsheet')\n",
    "\n",
    "for i in range(2400,2420):\n",
    "    match = MatchParser(i)\n",
    "    log.debug(f'Loaded match {i}')\n",
    "    \n",
    "    match.execute()\n",
    "    log.debug(f'Parsed data from match {i}')\n",
    "    \n",
    "    match.scorecards.to_csv(f'../data/processed/howstat/scorecards/scorecard_{i}.csv')\n",
    "    match.scorecards.to_csv(f'../data/processed/howstat/fall_of_wickets/fow_{i}.csv')\n",
    "    log.info(f'Saved data from Match: {i}')"
   ]
  },
  {
   "cell_type": "code",
   "execution_count": 2,
   "metadata": {},
   "outputs": [
    {
     "data": {
      "text/plain": [
       "'HTML structure: \\n    innings + team name\\n    innings scorecard\\n    fall of wickets\\n    innings + team name\\n    innings scorecard\\n    fall of wickets\\n    \\n    etc.\\n    \\n    \\nProcedure:\\nGet this table:\\n    Read innings + team name (s)\\n    Read the scorecard (s)\\n    Read the FoW (s)\\n    Split by innings + team name.\\nReformat into readable table\\n'"
      ]
     },
     "execution_count": 2,
     "metadata": {},
     "output_type": "execute_result"
    }
   ],
   "source": [
    "# FoW\n",
    "\"\"\"HTML structure: \n",
    "    innings + team name\n",
    "    innings scorecard\n",
    "    fall of wickets\n",
    "    innings + team name\n",
    "    innings scorecard\n",
    "    fall of wickets\n",
    "    \n",
    "    etc.\n",
    "    \n",
    "    \n",
    "Procedure:\n",
    "Get this table:\n",
    "    Read innings + team name (s)\n",
    "    Read the scorecard (s)\n",
    "    Read the FoW (s)\n",
    "    Split by innings + team name.\n",
    "Reformat into readable table\n",
    "\"\"\"\n",
    "\n",
    "\n"
   ]
  },
  {
   "cell_type": "code",
   "execution_count": null,
   "metadata": {},
   "outputs": [],
   "source": []
  },
  {
   "cell_type": "code",
   "execution_count": null,
   "metadata": {},
   "outputs": [],
   "source": []
  }
 ],
 "metadata": {
  "kernelspec": {
   "display_name": "Python 3",
   "language": "python",
   "name": "python3"
  },
  "language_info": {
   "codemirror_mode": {
    "name": "ipython",
    "version": 3
   },
   "file_extension": ".py",
   "mimetype": "text/x-python",
   "name": "python",
   "nbconvert_exporter": "python",
   "pygments_lexer": "ipython3",
   "version": "3.8.5"
  }
 },
 "nbformat": 4,
 "nbformat_minor": 4
}
