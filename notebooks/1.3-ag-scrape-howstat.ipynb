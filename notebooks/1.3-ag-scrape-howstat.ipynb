{
 "cells": [
  {
   "cell_type": "markdown",
   "metadata": {},
   "source": [
    "# Batting collapse frequency. Are England unique?"
   ]
  },
  {
   "cell_type": "markdown",
   "metadata": {},
   "source": [
    "### Research Question:\n",
    "- How often do batting collapses happen?\n",
    "- Does England collapse more often that other teams?\n",
    "- Is this statement true? \"Joe Root rarely stops a collapse, and is often a part of it\"\n",
    "- Which players are best at stopping a collapse?\n",
    "\n",
    "\n",
    "### Methodology:\n",
    "- Create a table of fall of wicket:\n",
    "    - MatchID\n",
    "    - Date\n",
    "    - Batting team\n",
    "    - Bowling team\n",
    "    - Match type\n",
    "    - Innings\n",
    "    - Fall of Wicket 1 (runs, batsman)\n",
    "    - Fall of Wicket 2 (runs, batsman)\n",
    "    - etc.\n"
   ]
  },
  {
   "cell_type": "markdown",
   "metadata": {},
   "source": [
    "### Problem breakdown:\n",
    "- Data Source: howstat cricket scorecards\n",
    "- Extract Fall Of Wickets from a single game\n",
    "- Extract FoW from multiple games\n",
    "- Extract FoW from all (relevant) games"
   ]
  },
  {
   "cell_type": "code",
   "execution_count": 1,
   "metadata": {},
   "outputs": [],
   "source": [
    "from cricsheet.io_html.BaseParser import BaseParser\n",
    "from cricsheet.io_html.MatchParser import MatchParser\n",
    "\n",
    "import logging"
   ]
  },
  {
   "cell_type": "code",
   "execution_count": null,
   "metadata": {},
   "outputs": [],
   "source": [
    "logging.basicConfig(level=logging.INFO)\n",
    "log = logging.getLogger('cricsheet')\n",
    "\n",
    "for i in range(2400,2420):\n",
    "    match = MatchParser(i)\n",
    "    log.debug(f'Loaded match {i}')\n",
    "    \n",
    "    match.execute()\n",
    "    log.debug(f'Parsed data from match {i}')\n",
    "    \n",
    "    match.scorecards.to_csv(f'../data/processed/howstat/scorecards/scorecard_{i}.csv')\n",
    "    match.scorecards.to_csv(f'../data/processed/howstat/fall_of_wickets/fow_{i}.csv')\n",
    "    log.info(f'Saved data from Match: {i}')"
   ]
  },
  {
   "cell_type": "code",
   "execution_count": 2,
   "metadata": {},
   "outputs": [
    {
     "data": {
      "text/plain": [
       "'HTML structure: \\n    innings + team name\\n    innings scorecard\\n    fall of wickets\\n    innings + team name\\n    innings scorecard\\n    fall of wickets\\n    \\n    etc.\\n    \\n    \\nProcedure:\\nGet this table:\\n    Read innings + team name (s)\\n    Read the scorecard (s)\\n    Read the FoW (s)\\n    Split by innings + team name.\\nReformat into readable table\\n'"
      ]
     },
     "execution_count": 2,
     "metadata": {},
     "output_type": "execute_result"
    }
   ],
   "source": [
    "# FoW\n",
    "\"\"\"HTML structure: \n",
    "    innings + team name\n",
    "    innings scorecard\n",
    "    fall of wickets\n",
    "    innings + team name\n",
    "    innings scorecard\n",
    "    fall of wickets\n",
    "    \n",
    "    etc.\n",
    "    \n",
    "    \n",
    "Procedure:\n",
    "Get this table:\n",
    "    Read innings + team name (s)\n",
    "    Read the scorecard (s)\n",
    "    Read the FoW (s)\n",
    "    Split by innings + team name.\n",
    "Reformat into readable table\n",
    "\"\"\"\n",
    "\n",
    "\n"
   ]
  },
  {
   "cell_type": "code",
   "execution_count": null,
   "metadata": {},
   "outputs": [],
   "source": []
  },
  {
   "cell_type": "code",
   "execution_count": null,
   "metadata": {},
   "outputs": [],
   "source": []
  }
 ],
 "metadata": {
  "kernelspec": {
   "display_name": "Python 3",
   "language": "python",
   "name": "python3"
  },
  "language_info": {
   "codemirror_mode": {
    "name": "ipython",
    "version": 3
   },
   "file_extension": ".py",
   "mimetype": "text/x-python",
   "name": "python",
   "nbconvert_exporter": "python",
   "pygments_lexer": "ipython3",
   "version": "3.8.5"
  }
 },
 "nbformat": 4,
 "nbformat_minor": 4
}
