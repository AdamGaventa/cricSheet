{
 "cells": [
  {
   "cell_type": "markdown",
   "metadata": {},
   "source": [
    "# Batting collapse frequency. Are England unique?"
   ]
  },
  {
   "cell_type": "markdown",
   "metadata": {},
   "source": [
    "### Research Question:\n",
    "- How often do batting collapses happen?\n",
    "- Does England collapse more often that other teams?\n",
    "- Is this statement true? \"Joe Root rarely stops a collapse, and is often a part of it\"\n",
    "- Which players are best at stopping a collapse?\n",
    "\n",
    "\n",
    "### Methodology:\n",
    "- Create a table of fall of wicket:\n",
    "    - MatchID\n",
    "    - Date\n",
    "    - Batting team\n",
    "    - Bowling team\n",
    "    - Match type\n",
    "    - Innings\n",
    "    - Fall of Wicket 1 (runs, batsman)\n",
    "    - Fall of Wicket 2 (runs, batsman)\n",
    "    - etc.\n"
   ]
  },
  {
   "cell_type": "markdown",
   "metadata": {},
   "source": [
    "### Problem breakdown:\n",
    "- Data Source: howstat cricket scorecards\n",
    "- Extract Fall Of Wickets from a single game\n",
    "- Extract FoW from multiple games\n",
    "- Extract FoW from all (relevant) games"
   ]
  },
  {
   "cell_type": "code",
   "execution_count": null,
   "metadata": {},
   "outputs": [],
   "source": [
    "from cricsheet.io_html.BaseParser import BaseParser\n",
    "from cricsheet.io_html.MatchParser import MatchParser\n",
    "\n",
    "import logging\n",
    "import time\n",
    "import sys"
   ]
  },
  {
   "cell_type": "code",
   "execution_count": null,
   "metadata": {},
   "outputs": [],
   "source": [
    "logging.basicConfig(level=logging.DEBUG,\n",
    "                    format='[%(levelname)s]: %(asctime)s: %(message)s',\n",
    "                    #datefmt='%m-%d %H:%M',\n",
    "                    filename='../logs/scrapeTests.log',\n",
    "                    filemode='w')\n",
    "\n",
    "# define a Handler which writes INFO messages or higher to the sys.stderr\n",
    "console = logging.StreamHandler(sys.stdout)\n",
    "console.setLevel(logging.INFO)\n",
    "\n",
    "# set a format which is simpler for console use\n",
    "formatter = logging.Formatter('%(name)-12s: %(levelname)-8s: %(message)s')\n",
    "# tell the handler to use this format\n",
    "console.setFormatter(formatter)\n",
    "\n",
    "# add the handler to the root logger\n",
    "logging.getLogger('').addHandler(console)"
   ]
  },
  {
   "cell_type": "code",
   "execution_count": null,
   "metadata": {
    "scrolled": true
   },
   "outputs": [],
   "source": [
    "#logging.basicConfig(level=logging.INFO, format='[%(levelname)s]: %(asctime)s: %(message)s')\n",
    "#log = logging.getLogger('cricsheet')\n",
    "\n",
    "#start_time = time.time()\n",
    "\n",
    "# \n",
    "j = 0\n",
    "for i in range(1,4):\n",
    "    j += 1\n",
    "    if j % 50 == 0:\n",
    "        logging.info('Sleeping for 10 seconds')\n",
    "        time.sleep(10)\n",
    "        \n",
    "    s_id = str(i).zfill(4)\n",
    "    match = MatchParser(s_id)\n",
    "    logging.debug(f'Loaded match {s_id}')\n",
    "    \n",
    "    try:\n",
    "        match.execute()\n",
    "        logging.info(f'Parsed data from match {s_id}')\n",
    "        match.scorecards.to_csv(f'../data/processed/howstat/scorecards/scorecard_{i}.csv')\n",
    "        match.fall_of_wickets.to_csv(f'../data/processed/howstat/fall_of_wickets/fow_{i}.csv')\n",
    "        logging.info(f'Saved data from Match: {s_id}')        \n",
    "    except Exception as err:\n",
    "        logging.error(err)\n",
    "    \n",
    "    \n"
   ]
  },
  {
   "cell_type": "code",
   "execution_count": null,
   "metadata": {},
   "outputs": [],
   "source": [
    "match.fall_of_wickets"
   ]
  },
  {
   "cell_type": "code",
   "execution_count": null,
   "metadata": {},
   "outputs": [],
   "source": []
  }
 ],
 "metadata": {
  "kernelspec": {
   "display_name": "Python 3",
   "language": "python",
   "name": "python3"
  },
  "language_info": {
   "codemirror_mode": {
    "name": "ipython",
    "version": 3
   },
   "file_extension": ".py",
   "mimetype": "text/x-python",
   "name": "python",
   "nbconvert_exporter": "python",
   "pygments_lexer": "ipython3",
   "version": "3.8.5"
  }
 },
 "nbformat": 4,
 "nbformat_minor": 4
}
