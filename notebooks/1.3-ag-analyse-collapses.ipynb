{
 "cells": [
  {
   "cell_type": "code",
   "execution_count": 11,
   "metadata": {},
   "outputs": [],
   "source": [
    "import pandas as pd"
   ]
  },
  {
   "cell_type": "code",
   "execution_count": 12,
   "metadata": {},
   "outputs": [],
   "source": [
    "filepath = '../data/processed/howstat/fall_of_wickets/'"
   ]
  },
  {
   "cell_type": "code",
   "execution_count": 18,
   "metadata": {},
   "outputs": [],
   "source": [
    "file = 'fow_1999.csv'"
   ]
  },
  {
   "cell_type": "code",
   "execution_count": 19,
   "metadata": {},
   "outputs": [],
   "source": [
    "df = pd.read_csv(filepath+file, index_col=0, parse_dates=[2], infer_datetime_format=True)"
   ]
  },
  {
   "cell_type": "code",
   "execution_count": 20,
   "metadata": {},
   "outputs": [],
   "source": [
    "from cricsheet.fow_analysis.collapses.extract_collapses import return_collapses"
   ]
  },
  {
   "cell_type": "code",
   "execution_count": 23,
   "metadata": {},
   "outputs": [
    {
     "data": {
      "text/html": [
       "<div>\n",
       "<style scoped>\n",
       "    .dataframe tbody tr th:only-of-type {\n",
       "        vertical-align: middle;\n",
       "    }\n",
       "\n",
       "    .dataframe tbody tr th {\n",
       "        vertical-align: top;\n",
       "    }\n",
       "\n",
       "    .dataframe thead th {\n",
       "        text-align: right;\n",
       "    }\n",
       "</style>\n",
       "<table border=\"1\" class=\"dataframe\">\n",
       "  <thead>\n",
       "    <tr style=\"text-align: right;\">\n",
       "      <th></th>\n",
       "      <th></th>\n",
       "      <th></th>\n",
       "      <th></th>\n",
       "      <th>start</th>\n",
       "      <th>end</th>\n",
       "      <th>runs</th>\n",
       "      <th>positions</th>\n",
       "      <th>batters</th>\n",
       "    </tr>\n",
       "    <tr>\n",
       "      <th>MatchId</th>\n",
       "      <th>MatchInnings</th>\n",
       "      <th>Team</th>\n",
       "      <th></th>\n",
       "      <th></th>\n",
       "      <th></th>\n",
       "      <th></th>\n",
       "      <th></th>\n",
       "      <th></th>\n",
       "    </tr>\n",
       "  </thead>\n",
       "  <tbody>\n",
       "    <tr>\n",
       "      <th rowspan=\"4\" valign=\"top\">1999</th>\n",
       "      <th>1</th>\n",
       "      <th>England</th>\n",
       "      <th>0</th>\n",
       "      <td>5.0</td>\n",
       "      <td>7.0</td>\n",
       "      <td>0.0</td>\n",
       "      <td>[5, 6, 7]</td>\n",
       "      <td>[Cook, Prior, Broad]</td>\n",
       "    </tr>\n",
       "    <tr>\n",
       "      <th rowspan=\"3\" valign=\"top\">2</th>\n",
       "      <th rowspan=\"3\" valign=\"top\">Australia</th>\n",
       "      <th>0</th>\n",
       "      <td>6.0</td>\n",
       "      <td>9.0</td>\n",
       "      <td>22.0</td>\n",
       "      <td>[6, 7, 8, 9]</td>\n",
       "      <td>[Haddin, Hussey, Johnson, Siddle]</td>\n",
       "    </tr>\n",
       "    <tr>\n",
       "      <th>1</th>\n",
       "      <td>7.0</td>\n",
       "      <td>10.0</td>\n",
       "      <td>23.0</td>\n",
       "      <td>[7, 8, 9, 10]</td>\n",
       "      <td>[Hussey, Johnson, Siddle, Doherty]</td>\n",
       "    </tr>\n",
       "    <tr>\n",
       "      <th>2</th>\n",
       "      <td>1.0</td>\n",
       "      <td>3.0</td>\n",
       "      <td>22.0</td>\n",
       "      <td>[1, 2, 3]</td>\n",
       "      <td>[Watson, Ponting, Katich]</td>\n",
       "    </tr>\n",
       "  </tbody>\n",
       "</table>\n",
       "</div>"
      ],
      "text/plain": [
       "                                  start   end  runs      positions  \\\n",
       "MatchId MatchInnings Team                                            \n",
       "1999    1            England   0    5.0   7.0   0.0      [5, 6, 7]   \n",
       "        2            Australia 0    6.0   9.0  22.0   [6, 7, 8, 9]   \n",
       "                               1    7.0  10.0  23.0  [7, 8, 9, 10]   \n",
       "                               2    1.0   3.0  22.0      [1, 2, 3]   \n",
       "\n",
       "                                                             batters  \n",
       "MatchId MatchInnings Team                                             \n",
       "1999    1            England   0                [Cook, Prior, Broad]  \n",
       "        2            Australia 0   [Haddin, Hussey, Johnson, Siddle]  \n",
       "                               1  [Hussey, Johnson, Siddle, Doherty]  \n",
       "                               2           [Watson, Ponting, Katich]  "
      ]
     },
     "execution_count": 23,
     "metadata": {},
     "output_type": "execute_result"
    }
   ],
   "source": [
    "df.groupby(['MatchId','MatchInnings', 'Team']).apply(return_collapses)"
   ]
  },
  {
   "cell_type": "markdown",
   "metadata": {},
   "source": [
    "Questions to answer:\n",
    "- Number of collapses by Team, by year (unique collapses, innings with a collapse)\n",
    "- Positions most often involved\n",
    "- Batters most often involved"
   ]
  }
 ],
 "metadata": {
  "kernelspec": {
   "display_name": "Python 3",
   "language": "python",
   "name": "python3"
  },
  "language_info": {
   "codemirror_mode": {
    "name": "ipython",
    "version": 3
   },
   "file_extension": ".py",
   "mimetype": "text/x-python",
   "name": "python",
   "nbconvert_exporter": "python",
   "pygments_lexer": "ipython3",
   "version": "3.8.5"
  }
 },
 "nbformat": 4,
 "nbformat_minor": 4
}
