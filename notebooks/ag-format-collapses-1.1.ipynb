{
 "cells": [
  {
   "cell_type": "code",
   "execution_count": 1,
   "metadata": {},
   "outputs": [],
   "source": [
    "import pandas as pd"
   ]
  },
  {
   "cell_type": "code",
   "execution_count": 2,
   "metadata": {},
   "outputs": [],
   "source": [
    "filepath = '../data/processed/howstat/fall_of_wickets/'"
   ]
  },
  {
   "cell_type": "code",
   "execution_count": 3,
   "metadata": {},
   "outputs": [],
   "source": [
    "file = 'fow_2400.csv'"
   ]
  },
  {
   "cell_type": "code",
   "execution_count": 4,
   "metadata": {},
   "outputs": [],
   "source": [
    "df = pd.read_csv(filepath+file, index_col=0, parse_dates=[2], infer_datetime_format=True)"
   ]
  },
  {
   "cell_type": "code",
   "execution_count": 5,
   "metadata": {
    "scrolled": true
   },
   "outputs": [
    {
     "data": {
      "text/html": [
       "<div>\n",
       "<style scoped>\n",
       "    .dataframe tbody tr th:only-of-type {\n",
       "        vertical-align: middle;\n",
       "    }\n",
       "\n",
       "    .dataframe tbody tr th {\n",
       "        vertical-align: top;\n",
       "    }\n",
       "\n",
       "    .dataframe thead th {\n",
       "        text-align: right;\n",
       "    }\n",
       "</style>\n",
       "<table border=\"1\" class=\"dataframe\">\n",
       "  <thead>\n",
       "    <tr style=\"text-align: right;\">\n",
       "      <th></th>\n",
       "      <th>MatchId</th>\n",
       "      <th>MatchDate</th>\n",
       "      <th>MatchInnings</th>\n",
       "      <th>Team</th>\n",
       "      <th>TeamInnings</th>\n",
       "      <th>Wicket</th>\n",
       "      <th>Runs</th>\n",
       "      <th>Player</th>\n",
       "    </tr>\n",
       "  </thead>\n",
       "  <tbody>\n",
       "    <tr>\n",
       "      <th>10</th>\n",
       "      <td>2400</td>\n",
       "      <td>2020-01-03</td>\n",
       "      <td>2</td>\n",
       "      <td>South Africa</td>\n",
       "      <td>1st</td>\n",
       "      <td>1</td>\n",
       "      <td>26</td>\n",
       "      <td>Malan</td>\n",
       "    </tr>\n",
       "    <tr>\n",
       "      <th>11</th>\n",
       "      <td>2400</td>\n",
       "      <td>2020-01-03</td>\n",
       "      <td>2</td>\n",
       "      <td>South Africa</td>\n",
       "      <td>1st</td>\n",
       "      <td>2</td>\n",
       "      <td>38</td>\n",
       "      <td>Hamza</td>\n",
       "    </tr>\n",
       "    <tr>\n",
       "      <th>12</th>\n",
       "      <td>2400</td>\n",
       "      <td>2020-01-03</td>\n",
       "      <td>2</td>\n",
       "      <td>South Africa</td>\n",
       "      <td>1st</td>\n",
       "      <td>3</td>\n",
       "      <td>40</td>\n",
       "      <td>Plessis</td>\n",
       "    </tr>\n",
       "    <tr>\n",
       "      <th>13</th>\n",
       "      <td>2400</td>\n",
       "      <td>2020-01-03</td>\n",
       "      <td>2</td>\n",
       "      <td>South Africa</td>\n",
       "      <td>1st</td>\n",
       "      <td>4</td>\n",
       "      <td>157</td>\n",
       "      <td>Elgar</td>\n",
       "    </tr>\n",
       "    <tr>\n",
       "      <th>14</th>\n",
       "      <td>2400</td>\n",
       "      <td>2020-01-03</td>\n",
       "      <td>2</td>\n",
       "      <td>South Africa</td>\n",
       "      <td>1st</td>\n",
       "      <td>5</td>\n",
       "      <td>191</td>\n",
       "      <td>Kock</td>\n",
       "    </tr>\n",
       "    <tr>\n",
       "      <th>15</th>\n",
       "      <td>2400</td>\n",
       "      <td>2020-01-03</td>\n",
       "      <td>2</td>\n",
       "      <td>South Africa</td>\n",
       "      <td>1st</td>\n",
       "      <td>6</td>\n",
       "      <td>200</td>\n",
       "      <td>Dussen</td>\n",
       "    </tr>\n",
       "    <tr>\n",
       "      <th>16</th>\n",
       "      <td>2400</td>\n",
       "      <td>2020-01-03</td>\n",
       "      <td>2</td>\n",
       "      <td>South Africa</td>\n",
       "      <td>1st</td>\n",
       "      <td>7</td>\n",
       "      <td>207</td>\n",
       "      <td>Pretorius</td>\n",
       "    </tr>\n",
       "    <tr>\n",
       "      <th>17</th>\n",
       "      <td>2400</td>\n",
       "      <td>2020-01-03</td>\n",
       "      <td>2</td>\n",
       "      <td>South Africa</td>\n",
       "      <td>1st</td>\n",
       "      <td>8</td>\n",
       "      <td>215</td>\n",
       "      <td>Maharaj</td>\n",
       "    </tr>\n",
       "    <tr>\n",
       "      <th>18</th>\n",
       "      <td>2400</td>\n",
       "      <td>2020-01-03</td>\n",
       "      <td>2</td>\n",
       "      <td>South Africa</td>\n",
       "      <td>1st</td>\n",
       "      <td>9</td>\n",
       "      <td>215</td>\n",
       "      <td>Rabada</td>\n",
       "    </tr>\n",
       "    <tr>\n",
       "      <th>19</th>\n",
       "      <td>2400</td>\n",
       "      <td>2020-01-03</td>\n",
       "      <td>2</td>\n",
       "      <td>South Africa</td>\n",
       "      <td>1st</td>\n",
       "      <td>10</td>\n",
       "      <td>223</td>\n",
       "      <td>Nortje</td>\n",
       "    </tr>\n",
       "  </tbody>\n",
       "</table>\n",
       "</div>"
      ],
      "text/plain": [
       "    MatchId  MatchDate  MatchInnings          Team TeamInnings  Wicket  Runs  \\\n",
       "10     2400 2020-01-03             2  South Africa         1st       1    26   \n",
       "11     2400 2020-01-03             2  South Africa         1st       2    38   \n",
       "12     2400 2020-01-03             2  South Africa         1st       3    40   \n",
       "13     2400 2020-01-03             2  South Africa         1st       4   157   \n",
       "14     2400 2020-01-03             2  South Africa         1st       5   191   \n",
       "15     2400 2020-01-03             2  South Africa         1st       6   200   \n",
       "16     2400 2020-01-03             2  South Africa         1st       7   207   \n",
       "17     2400 2020-01-03             2  South Africa         1st       8   215   \n",
       "18     2400 2020-01-03             2  South Africa         1st       9   215   \n",
       "19     2400 2020-01-03             2  South Africa         1st      10   223   \n",
       "\n",
       "       Player  \n",
       "10      Malan  \n",
       "11      Hamza  \n",
       "12    Plessis  \n",
       "13      Elgar  \n",
       "14       Kock  \n",
       "15     Dussen  \n",
       "16  Pretorius  \n",
       "17    Maharaj  \n",
       "18     Rabada  \n",
       "19     Nortje  "
      ]
     },
     "execution_count": 5,
     "metadata": {},
     "output_type": "execute_result"
    }
   ],
   "source": [
    "df[df.MatchInnings==2]"
   ]
  },
  {
   "cell_type": "markdown",
   "metadata": {},
   "source": [
    "Let's say a batting collapse is defined as losing at least 3 wickets for at most 30 runs.\n",
    "We want to know for each MatchId-MatchInnings whether that innings contains a batting collapse.\n",
    "We want:\n",
    "- Number of batting collapses\n",
    "- Batting positions involved and their positions\n",
    "\n",
    "Say we have a game with FoW:\n",
    "1-26 Malan\n",
    "2-38 Hamza\n",
    "3-40 Plessis\n",
    "\n",
    "I.e. only 3 wickets fell (say, declared).\n",
    "They lost 3 wickets for 14 runs (additional to when the 1st wicket fell), so this is a batting collapse.\n",
    "In other words: the score was 26-0, which became 40-3, so 3 wickets lost for 14 runs\n",
    "\n",
    "Say we have a game with FoW:\n",
    "1-157\n",
    "2-191\n",
    "3-200\n",
    "4-207\n",
    "\n",
    "Wickets 2-4 fell for 16 runs (i.e. batters 2,3,4 lost their wickets).\n",
    "This is a batting collapse.\n",
    "\n",
    "\n",
    "\n",
    "\n",
    "Coding approach:\n",
    "Check each group of 3 wickets. Groups will be: 5-2, 4-1, 3-0.\n",
    "Create a dict: this is simple than making a dict: {wicket:runs}\n"
   ]
  },
  {
   "cell_type": "code",
   "execution_count": 6,
   "metadata": {},
   "outputs": [],
   "source": [
    "from collections import namedtuple\n",
    "\n",
    "def check_collapse_n_wickets(d_runs, n):\n",
    "    \n",
    "    Collapse = namedtuple(\"Collapse\", [\"start\", \"end\", \"runs\", \"batters\"])      \n",
    "    n_collapses = 0\n",
    "    l_collapses = []\n",
    "    \n",
    "    for i in range(n,len(d_runs)):\n",
    "        l_positions_involved = []\n",
    "\n",
    "        # skip the case from 0 to i, since only i wickets will have fallen\n",
    "        if i == n:\n",
    "            continue\n",
    "\n",
    "        # calculate runs lost for wicket # i-n, i-n+1,...,i\n",
    "        # e.g. if n=2 and i=5, wickets 3,4,5 have fallen\n",
    "        diff = d_runs[i] - d_runs[i-n]\n",
    "\n",
    "        if diff <= 30:\n",
    "            collapse = Collapse(start=i-n, end=i, runs=diff, batters=[s for s in range(i-n,i+1)])\n",
    "            l_collapses.append(collapse)\n",
    "            \n",
    "    return l_collapses"
   ]
  },
  {
   "cell_type": "code",
   "execution_count": 7,
   "metadata": {},
   "outputs": [],
   "source": [
    "def check_all_collapses(d_runs):\n",
    "    \"\"\"\n",
    "    Go through all length batting collapses to see if any smaller are extended.\n",
    "    e.g. lose 3 wickets for 30, lose 4 wickets for 30, lose 5 wickets for 30 -> only count as 1 collapse\n",
    "    \n",
    "    check if batters for small n is contained within batters for larger n\n",
    "    \n",
    "    do some optimisations at a later stage\n",
    "    \"\"\"\n",
    "    # build list of collapses for every length of collapse (min.2, max.10 wickets lost)\n",
    "    l_collapses = []\n",
    "    for i in reversed(range(2,10)):\n",
    "        l_collapse = check_collapse_n_wickets(d_runs, i)\n",
    "        if len(l_collapse) > 0:\n",
    "            l_collapses += l_collapse\n",
    "            \n",
    "            \n",
    "    # reduce to drop any \"sub-collapses\" e.g. 4,5,6 is a sub-collapse of 4,5,6,7\n",
    "    l_collapses_reduced = l_collapses[:]\n",
    "    for m in l_collapses:\n",
    "        for n in l_collapses:\n",
    "            if set(m.batters) <= set(n.batters) and m != n:\n",
    "                # if is a sub-collapse, remove the smaller object from the list: we no longer need to test it\n",
    "                l_collapses_reduced.remove(m)\n",
    "                # and break, as \n",
    "                break\n",
    "                \n",
    "                \n",
    "    # return number of collapses\n",
    "    return l_collapses_reduced"
   ]
  },
  {
   "cell_type": "code",
   "execution_count": 8,
   "metadata": {},
   "outputs": [],
   "source": [
    "def return_collapses(df):          \n",
    "    # for each collapse, want to store:\n",
    "    # - number of runs lost\n",
    "    # - positions involved\n",
    "    # - (later on) batsman involved\n",
    "    # - (later on) bowlers involved\n",
    "    \n",
    "    l_runs = list(df.Runs)\n",
    "    l_runs.insert(0,0)\n",
    "    d_runs = {i:l_runs[i] for i in range(len(l_runs))}\n",
    "    \n",
    "    return check_all_collapses(d_runs)"
   ]
  },
  {
   "cell_type": "code",
   "execution_count": 14,
   "metadata": {},
   "outputs": [
    {
     "data": {
      "text/plain": [
       "[Collapse(start=5, end=9, runs=24, batters=[5, 6, 7, 8, 9]),\n",
       " Collapse(start=6, end=10, runs=23, batters=[6, 7, 8, 9, 10]),\n",
       " Collapse(start=1, end=3, runs=14, batters=[1, 2, 3])]"
      ]
     },
     "execution_count": 14,
     "metadata": {},
     "output_type": "execute_result"
    }
   ],
   "source": [
    "df_test = df[df.MatchInnings==2]\n",
    "l_collapses = return_collapses(df_test)\n",
    "l_collapses"
   ]
  },
  {
   "cell_type": "code",
   "execution_count": 24,
   "metadata": {},
   "outputs": [],
   "source": [
    "starts = []\n",
    "ends = []\n",
    "runs = []\n",
    "positions = []\n",
    "for collapse in l_collapses:\n",
    "    starts.append(collapse.start)\n",
    "    ends.append(collapse.end)\n",
    "    runs.append(collapse.runs)\n",
    "    positions.append(collapse.batters)"
   ]
  },
  {
   "cell_type": "code",
   "execution_count": 29,
   "metadata": {},
   "outputs": [
    {
     "data": {
      "text/plain": [
       "[[5, 6, 7, 8, 9], [6, 7, 8, 9, 10], [1, 2, 3]]"
      ]
     },
     "execution_count": 29,
     "metadata": {},
     "output_type": "execute_result"
    }
   ],
   "source": [
    "positions"
   ]
  },
  {
   "cell_type": "code",
   "execution_count": 38,
   "metadata": {},
   "outputs": [],
   "source": [
    "df_res = pd.DataFrame(data={'MatchId':[df_test.MatchId.unique()[0]]})"
   ]
  },
  {
   "cell_type": "code",
   "execution_count": null,
   "metadata": {},
   "outputs": [],
   "source": [
    "# create as many columns for each of (starts, ends, runs, positions) as there are values in each respective list\n",
    "cols = []\n",
    "for i in range(len(l_collapses)):\n",
    "    "
   ]
  },
  {
   "cell_type": "code",
   "execution_count": null,
   "metadata": {},
   "outputs": [],
   "source": []
  },
  {
   "cell_type": "code",
   "execution_count": null,
   "metadata": {},
   "outputs": [],
   "source": []
  },
  {
   "cell_type": "code",
   "execution_count": null,
   "metadata": {},
   "outputs": [],
   "source": []
  },
  {
   "cell_type": "code",
   "execution_count": null,
   "metadata": {},
   "outputs": [],
   "source": []
  },
  {
   "cell_type": "code",
   "execution_count": null,
   "metadata": {},
   "outputs": [],
   "source": []
  },
  {
   "cell_type": "code",
   "execution_count": 9,
   "metadata": {},
   "outputs": [
    {
     "data": {
      "text/plain": [
       "MatchId  MatchInnings  Team        \n",
       "2400     1             England                                [(6, 9, 13, [6, 7, 8, 9])]\n",
       "         2             South Africa    [(5, 9, 24, [5, 6, 7, 8, 9]), (6, 10, 23, [6, ...\n",
       "         3             England                                                        []\n",
       "         4             South Africa                      [(6, 10, 11, [6, 7, 8, 9, 10])]\n",
       "dtype: object"
      ]
     },
     "execution_count": 9,
     "metadata": {},
     "output_type": "execute_result"
    }
   ],
   "source": [
    "df.groupby(['MatchId','MatchInnings', 'Team']).apply(return_collapses)"
   ]
  },
  {
   "cell_type": "code",
   "execution_count": 10,
   "metadata": {},
   "outputs": [],
   "source": [
    "#I'd like results to be returned as:\n",
    "#-MatchId\n",
    "#-MatchInnings\n",
    "#-Team\n",
    "#-CollapseCount\n",
    "#-CollapseDetails:\n",
    "#      (one option)\n",
    "#        Start tuple\n",
    "#        End tuple\n",
    "#        Runs tuple\n",
    "#        Batting positions tuple\n",
    "#        Batters tuple"
   ]
  },
  {
   "cell_type": "markdown",
   "metadata": {},
   "source": [
    "Questions to answer:\n",
    "- Number of collapses by Team, by year (unique collapses, innings with a collapse)\n",
    "- Positions most often involved\n",
    "- Batters most often involved"
   ]
  },
  {
   "cell_type": "code",
   "execution_count": null,
   "metadata": {},
   "outputs": [],
   "source": [
    "# **Need to have long format rather than wide, so return multiple rows if multiple collapses"
   ]
  }
 ],
 "metadata": {
  "kernelspec": {
   "display_name": "Python 3",
   "language": "python",
   "name": "python3"
  },
  "language_info": {
   "codemirror_mode": {
    "name": "ipython",
    "version": 3
   },
   "file_extension": ".py",
   "mimetype": "text/x-python",
   "name": "python",
   "nbconvert_exporter": "python",
   "pygments_lexer": "ipython3",
   "version": "3.8.5"
  }
 },
 "nbformat": 4,
 "nbformat_minor": 4
}
