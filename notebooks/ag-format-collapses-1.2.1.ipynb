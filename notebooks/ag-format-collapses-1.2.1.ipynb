{
 "cells": [
  {
   "cell_type": "code",
   "execution_count": null,
   "metadata": {},
   "outputs": [],
   "source": [
    "import pandas as pd"
   ]
  },
  {
   "cell_type": "code",
   "execution_count": null,
   "metadata": {},
   "outputs": [],
   "source": [
    "filepath = '../data/raw/csv/howstat/fall_of_wickets/'"
   ]
  },
  {
   "cell_type": "code",
   "execution_count": null,
   "metadata": {},
   "outputs": [],
   "source": [
    "file = 'fow_2400.csv'"
   ]
  },
  {
   "cell_type": "code",
   "execution_count": null,
   "metadata": {},
   "outputs": [],
   "source": [
    "df = pd.read_csv(filepath+file, index_col=0, parse_dates=[2], infer_datetime_format=True)"
   ]
  },
  {
   "cell_type": "code",
   "execution_count": null,
   "metadata": {
    "scrolled": true
   },
   "outputs": [],
   "source": [
    "df[df.MatchInnings==2]"
   ]
  },
  {
   "cell_type": "markdown",
   "metadata": {},
   "source": [
    "Let's say a batting collapse is defined as losing at least 3 wickets for at most 30 runs.\n",
    "We want to know for each MatchId-MatchInnings whether that innings contains a batting collapse.\n",
    "We want:\n",
    "- Number of batting collapses\n",
    "- Batting positions involved and their positions\n",
    "\n",
    "Say we have a game with FoW:\n",
    "1-26 Malan\n",
    "2-38 Hamza\n",
    "3-40 Plessis\n",
    "\n",
    "I.e. only 3 wickets fell (say, declared).\n",
    "They lost 3 wickets for 14 runs (additional to when the 1st wicket fell), so this is a batting collapse.\n",
    "In other words: the score was 26-0, which became 40-3, so 3 wickets lost for 14 runs\n",
    "\n",
    "Say we have a game with FoW:\n",
    "1-157\n",
    "2-191\n",
    "3-200\n",
    "4-207\n",
    "\n",
    "Wickets 2-4 fell for 16 runs (i.e. batters 2,3,4 lost their wickets).\n",
    "This is a batting collapse.\n",
    "\n",
    "\n",
    "\n",
    "\n",
    "Coding approach:\n",
    "Check each group of 3 wickets. Groups will be: 5-2, 4-1, 3-0.\n",
    "Create a dict: this is simple than making a dict: {wicket:runs}\n"
   ]
  },
  {
   "cell_type": "code",
   "execution_count": null,
   "metadata": {},
   "outputs": [],
   "source": [
    "filepath_scores = '../data/raw/csv/howstat/scorecards/'\n",
    "file_scores = 'scorecard_2400.csv'\n",
    "\n",
    "df_scores = pd.read_csv(filepath_scores+file_scores, index_col=0, parse_dates=[2], infer_datetime_format=True)"
   ]
  },
  {
   "cell_type": "code",
   "execution_count": null,
   "metadata": {},
   "outputs": [],
   "source": [
    "df_scores[df_scores.MatchInnings==2]"
   ]
  },
  {
   "cell_type": "code",
   "execution_count": null,
   "metadata": {},
   "outputs": [],
   "source": [
    "df_scores = df_scores[['MatchId', 'MatchInnings', 'Team', 'TeamInnings', 'Player', 'R', 'BF']]"
   ]
  },
  {
   "cell_type": "code",
   "execution_count": null,
   "metadata": {},
   "outputs": [],
   "source": [
    "df_scores_test = df_scores[df_scores.MatchInnings==2]\n",
    "df_scores_test"
   ]
  },
  {
   "cell_type": "code",
   "execution_count": null,
   "metadata": {},
   "outputs": [],
   "source": [
    "df_scores['BattingPosition'] = df_scores.groupby(['MatchId','MatchInnings', 'Team']).cumcount() + 1"
   ]
  },
  {
   "cell_type": "code",
   "execution_count": null,
   "metadata": {},
   "outputs": [],
   "source": [
    "from fuzzywuzzy import fuzz\n",
    "from fuzzywuzzy import process\n",
    "\n",
    "def fuzzy_merge(df_1, df_2, key1, key2, threshold=90, limit=1):\n",
    "    \"\"\"\n",
    "    :param df_1: the left table to join\n",
    "    :param df_2: the right table to join\n",
    "    :param key1: key column of the left table\n",
    "    :param key2: key column of the right table\n",
    "    :param threshold: how close the matches should be to return a match, based on Levenshtein distance\n",
    "    :param limit: the amount of matches that will get returned, these are sorted high to low\n",
    "    :return: dataframe with boths keys and matches\n",
    "    \"\"\"\n",
    "    s = df_2[key2].tolist()\n",
    "\n",
    "    m = df_1[key1].apply(lambda x: process.extract(x, s, limit=limit, scorer=fuzz.partial_ratio))    \n",
    "    df_1['matches'] = m\n",
    "\n",
    "    m2 = df_1['matches'].apply(lambda x: ', '.join([i[0] for i in x if i[1] >= threshold]))\n",
    "    df_1['matches'] = m2\n",
    "\n",
    "    return df_1"
   ]
  },
  {
   "cell_type": "code",
   "execution_count": null,
   "metadata": {},
   "outputs": [],
   "source": [
    "df_merged = fuzzy_merge(df, df_scores, 'Player', 'Player', 80)"
   ]
  },
  {
   "cell_type": "code",
   "execution_count": null,
   "metadata": {},
   "outputs": [],
   "source": [
    "df_merged.head()"
   ]
  },
  {
   "cell_type": "code",
   "execution_count": null,
   "metadata": {},
   "outputs": [],
   "source": [
    "df_merged = df_merged.merge(df_scores, how='left', left_on=['MatchId', 'MatchInnings', 'Team', 'TeamInnings', 'matches'], right_on=['MatchId', 'MatchInnings', 'Team', 'TeamInnings', 'Player'])\n",
    "df_merged = df_merged.drop(['Player_y', 'matches'], axis=1)\n",
    "df_merged = df_merged.rename(columns={\"Player_x\": \"Player\"})\n",
    "df_merged"
   ]
  },
  {
   "cell_type": "code",
   "execution_count": null,
   "metadata": {},
   "outputs": [],
   "source": [
    "from collections import namedtuple\n",
    "\n",
    "def check_collapse_n_wickets(d_runs, n):\n",
    "    \"\"\"\n",
    "    Takes a dictionary of wickets falling (runs for wicket i=1:10), and n a number of wickets fallen to define a collapse.\n",
    "    Returns a list of all collapses for n number of wickets fallen.\n",
    "    The list contains Collapse namedtuple: start wicket, end wicket of collapse, number of runs, and positions involved.\n",
    "    \"\"\"\n",
    "    \n",
    "    Collapse = namedtuple(\"Collapse\", [\"start\", \"end\", \"runs\", \"wickets_lost\", \"batters\", \"batters_positon\", \"batters_runs\", \"batters_bf\"])      \n",
    "    n_collapses = 0\n",
    "    l_collapses = []\n",
    "    \n",
    "    for i in range(n,len(d_runs)):\n",
    "        l_wickets_lost = []\n",
    "        l_batters_involved = []\n",
    "        l_batters_position = []\n",
    "        l_batters_runs = []\n",
    "        l_batters_bf = []\n",
    "        \n",
    "\n",
    "        # skip the case from 0 to i, since only i wickets will have fallen\n",
    "        if i == n:\n",
    "            continue\n",
    "\n",
    "        # calculate runs lost for wicket # i-n, i-n+1,...,i\n",
    "        # e.g. if n=2 and i=5, wickets 3,4,5 have fallen\n",
    "        diff = d_runs[i][0] - d_runs[i-n][0]\n",
    "\n",
    "        if diff <= 30:\n",
    "            l_wickets_lost = [s for s in range(i-n,i+1)]\n",
    "            l_batters_involved = [d_runs[s][1] for s in range(i-n,i+1)]\n",
    "            l_batters_position = [d_runs[s][2] for s in range(i-n,i+1)]\n",
    "            l_batters_runs = [d_runs[s][3] for s in range(i-n,i+1)]\n",
    "            l_batters_bf = [d_runs[s][4] for s in range(i-n,i+1)]\n",
    "            collapse = Collapse(start=i-n, \n",
    "                                end=i, \n",
    "                                runs=diff, \n",
    "                                wickets_lost=l_wickets_lost, \n",
    "                                batters=l_batters_involved, \n",
    "                                batters_positon=l_batters_position, \n",
    "                                batters_runs=l_batters_runs, \n",
    "                                batters_bf=l_batters_bf)\n",
    "            l_collapses.append(collapse)\n",
    "            \n",
    "    return l_collapses"
   ]
  },
  {
   "cell_type": "code",
   "execution_count": null,
   "metadata": {},
   "outputs": [],
   "source": [
    "def check_all_collapses(d_runs):\n",
    "    \"\"\"\n",
    "    Go through all length batting collapses to see if any smaller are extended.\n",
    "    e.g. lose 3 wickets for 30, lose 4 wickets for 30, lose 5 wickets for 30 -> only count as 1 collapse\n",
    "    \n",
    "    check if batters for small n is contained within batters for larger n\n",
    "    \n",
    "    do some optimisations at a later stage\n",
    "    \"\"\"\n",
    "    # build list of collapses for every length of collapse (min.2, max.10 wickets lost)\n",
    "    l_collapses = []\n",
    "    for i in reversed(range(2,10)):\n",
    "        l_collapse = check_collapse_n_wickets(d_runs, i)\n",
    "        if len(l_collapse) > 0:\n",
    "            l_collapses += l_collapse\n",
    "            \n",
    "            \n",
    "    # reduce to drop any \"sub-collapses\" e.g. 4,5,6 is a sub-collapse of 4,5,6,7\n",
    "    l_collapses_reduced = l_collapses[:]\n",
    "    for m in l_collapses:\n",
    "        for n in l_collapses:\n",
    "            if set(m.wickets_lost) <= set(n.wickets_lost) and m != n:\n",
    "                # if is a sub-collapse, remove the smaller object from the list: we no longer need to test it\n",
    "                l_collapses_reduced.remove(m)\n",
    "                # and break, as \n",
    "                break\n",
    "                \n",
    "                \n",
    "    # return number of collapses\n",
    "    return l_collapses_reduced"
   ]
  },
  {
   "cell_type": "code",
   "execution_count": null,
   "metadata": {},
   "outputs": [],
   "source": [
    "def return_collapses(df):          \n",
    "    \"\"\"\n",
    "    for each innings (group), want to return one row for each collapse, \n",
    "    containing columns: start, end, runs, positions, (batters)\n",
    "    \"\"\"\n",
    "    \n",
    "    l_runs = list(df.Runs)\n",
    "    l_runs.insert(0,0)\n",
    "    l_player = list(df.Player)\n",
    "    l_player.insert(0,\"\")\n",
    "    l_batting_position = list(df.BattingPosition)\n",
    "    l_batting_position.insert(0,\"\")\n",
    "    l_batter_runs = list(df.R)\n",
    "    l_batter_runs.insert(0,\"\")\n",
    "    l_batter_bf = list(df.BF)\n",
    "    l_batter_bf.insert(0,\"\")\n",
    "    \n",
    "    d_runs = {i:(l_runs[i], l_player[i], l_batting_position[i], l_batter_runs[i], l_batter_bf[i]) for i in range(len(l_runs))}\n",
    "    \n",
    "    l_collapses = check_all_collapses(d_runs)\n",
    "    \n",
    "    return pd.DataFrame(l_collapses)"
   ]
  },
  {
   "cell_type": "code",
   "execution_count": null,
   "metadata": {},
   "outputs": [],
   "source": [
    "df_merged.groupby(['MatchId','MatchInnings', 'Team']).apply(return_collapses)"
   ]
  },
  {
   "cell_type": "markdown",
   "metadata": {},
   "source": [
    "Questions to answer:\n",
    "- Number of collapses by Team, by year (unique collapses, innings with a collapse)\n",
    "- Positions most often involved\n",
    "- Batters most often involved"
   ]
  }
 ],
 "metadata": {
  "kernelspec": {
   "display_name": "Python 3",
   "language": "python",
   "name": "python3"
  },
  "language_info": {
   "codemirror_mode": {
    "name": "ipython",
    "version": 3
   },
   "file_extension": ".py",
   "mimetype": "text/x-python",
   "name": "python",
   "nbconvert_exporter": "python",
   "pygments_lexer": "ipython3",
   "version": "3.8.5"
  }
 },
 "nbformat": 4,
 "nbformat_minor": 4
}
