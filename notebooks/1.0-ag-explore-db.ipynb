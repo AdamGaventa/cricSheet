{
 "cells": [
  {
   "cell_type": "code",
   "execution_count": 4,
   "metadata": {},
   "outputs": [],
   "source": [
    "import sqlite3 as sql\n",
    "import pandas as pd"
   ]
  },
  {
   "cell_type": "code",
   "execution_count": 14,
   "metadata": {},
   "outputs": [],
   "source": [
    "db_path = '../data/preprocessed/sqlite/cricsheet_xml.db'\n",
    "conn = sqlite3.connect(db_path)"
   ]
  },
  {
   "cell_type": "code",
   "execution_count": 16,
   "metadata": {},
   "outputs": [],
   "source": [
    "c = conn.cursor()"
   ]
  },
  {
   "cell_type": "code",
   "execution_count": 24,
   "metadata": {},
   "outputs": [
    {
     "name": "stdout",
     "output_type": "stream",
     "text": [
      "[('teams',), ('competitions',), ('players',), ('umpires',), ('matches',), ('scoresheets',), ('innings',), ('deliveries',), ('wickets',)]\n"
     ]
    }
   ],
   "source": [
    "tables = list(c.execute(\"SELECT name FROM sqlite_master WHERE type ='table' AND name NOT LIKE 'sqlite_%';\"))\n",
    "print(tables)"
   ]
  },
  {
   "cell_type": "code",
   "execution_count": 25,
   "metadata": {},
   "outputs": [
    {
     "name": "stdout",
     "output_type": "stream",
     "text": [
      "   count(*)\n",
      "0      7360\n"
     ]
    }
   ],
   "source": [
    "print(pd.read_sql('SELECT count(*) FROM matches', conn))"
   ]
  },
  {
   "cell_type": "code",
   "execution_count": 26,
   "metadata": {},
   "outputs": [],
   "source": [
    "df_matches = pd.read_sql('SELECT * FROM matches', conn)"
   ]
  },
  {
   "cell_type": "code",
   "execution_count": 28,
   "metadata": {},
   "outputs": [
    {
     "name": "stdout",
     "output_type": "stream",
     "text": [
      "<class 'pandas.core.frame.DataFrame'>\n",
      "RangeIndex: 7360 entries, 0 to 7359\n",
      "Data columns (total 23 columns):\n",
      " #   Column           Non-Null Count  Dtype  \n",
      "---  ------           --------------  -----  \n",
      " 0   id               7360 non-null   int64  \n",
      " 1   gender           7360 non-null   object \n",
      " 2   match_type       7360 non-null   object \n",
      " 3   competition      2638 non-null   object \n",
      " 4   max_overs        6731 non-null   float64\n",
      " 5   venue            7360 non-null   object \n",
      " 6   city             6449 non-null   object \n",
      " 7   start_date       7360 non-null   object \n",
      " 8   end_date         7360 non-null   object \n",
      " 9   team_home        7360 non-null   object \n",
      " 10  team_away        7360 non-null   object \n",
      " 11  result           7360 non-null   object \n",
      " 12  method           415 non-null    object \n",
      " 13  winner           7030 non-null   object \n",
      " 14  won_by_type      6982 non-null   object \n",
      " 15  won_by_value     6982 non-null   float64\n",
      " 16  player_of_match  6863 non-null   object \n",
      " 17  toss_won_by      7360 non-null   object \n",
      " 18  toss_decision    7360 non-null   object \n",
      " 19  umpire_first     7338 non-null   object \n",
      " 20  umpire_second    7338 non-null   object \n",
      " 21  umpire_third     4 non-null      object \n",
      " 22  umpire_forth     0 non-null      object \n",
      "dtypes: float64(2), int64(1), object(20)\n",
      "memory usage: 1.3+ MB\n"
     ]
    }
   ],
   "source": [
    "df_matches.info()"
   ]
  },
  {
   "cell_type": "code",
   "execution_count": 30,
   "metadata": {},
   "outputs": [
    {
     "data": {
      "text/plain": [
       "gender\n",
       "female    1069\n",
       "male      6291\n",
       "Name: id, dtype: int64"
      ]
     },
     "execution_count": 30,
     "metadata": {},
     "output_type": "execute_result"
    }
   ],
   "source": [
    "df_matches.groupby('gender')['id'].count()"
   ]
  },
  {
   "cell_type": "code",
   "execution_count": 31,
   "metadata": {},
   "outputs": [
    {
     "data": {
      "text/plain": [
       "match_type\n",
       "IT20     332\n",
       "MDM       23\n",
       "ODI     1964\n",
       "ODM      373\n",
       "T20     4062\n",
       "Test     606\n",
       "Name: id, dtype: int64"
      ]
     },
     "execution_count": 31,
     "metadata": {},
     "output_type": "execute_result"
    }
   ],
   "source": [
    "df_matches.groupby('match_type')['id'].count()"
   ]
  },
  {
   "cell_type": "code",
   "execution_count": 36,
   "metadata": {},
   "outputs": [
    {
     "data": {
      "text/plain": [
       "toss_decision\n",
       "bat      3488\n",
       "field    3872\n",
       "Name: id, dtype: int64"
      ]
     },
     "execution_count": 36,
     "metadata": {},
     "output_type": "execute_result"
    }
   ],
   "source": [
    "df_matches.groupby('toss_decision')['id'].count()"
   ]
  },
  {
   "cell_type": "code",
   "execution_count": null,
   "metadata": {},
   "outputs": [],
   "source": []
  }
 ],
 "metadata": {
  "kernelspec": {
   "display_name": "Python 3",
   "language": "python",
   "name": "python3"
  },
  "language_info": {
   "codemirror_mode": {
    "name": "ipython",
    "version": 3
   },
   "file_extension": ".py",
   "mimetype": "text/x-python",
   "name": "python",
   "nbconvert_exporter": "python",
   "pygments_lexer": "ipython3",
   "version": "3.8.5"
  }
 },
 "nbformat": 4,
 "nbformat_minor": 4
}
