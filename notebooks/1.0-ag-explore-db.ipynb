{
 "cells": [
  {
   "cell_type": "code",
   "execution_count": 4,
   "metadata": {},
   "outputs": [],
   "source": [
    "import sqlite3 as sql\n",
    "import pandas as pd"
   ]
  },
  {
   "cell_type": "code",
   "execution_count": 14,
   "metadata": {},
   "outputs": [],
   "source": [
    "db_path = '../data/preprocessed/sqlite/cricsheet_xml.db'\n",
    "conn = sqlite3.connect(db_path)"
   ]
  },
  {
   "cell_type": "code",
   "execution_count": 16,
   "metadata": {},
   "outputs": [],
   "source": [
    "c = conn.cursor()"
   ]
  },
  {
   "cell_type": "code",
   "execution_count": 24,
   "metadata": {},
   "outputs": [
    {
     "name": "stdout",
     "output_type": "stream",
     "text": [
      "[('teams',), ('competitions',), ('players',), ('umpires',), ('matches',), ('scoresheets',), ('innings',), ('deliveries',), ('wickets',)]\n"
     ]
    }
   ],
   "source": [
    "tables = list(c.execute(\"SELECT name FROM sqlite_master WHERE type ='table' AND name NOT LIKE 'sqlite_%';\"))\n",
    "print(tables)"
   ]
  },
  {
   "cell_type": "code",
   "execution_count": 37,
   "metadata": {},
   "outputs": [
    {
     "data": {
      "text/plain": [
       "[(0, 'id', 'INTEGER', 1, None, 1),\n",
       " (1, 'gender', 'VARCHAR', 1, None, 0),\n",
       " (2, 'match_type', 'VARCHAR', 1, None, 0),\n",
       " (3, 'competition', 'VARCHAR', 0, None, 0),\n",
       " (4, 'max_overs', 'INTEGER', 0, None, 0),\n",
       " (5, 'venue', 'VARCHAR', 0, None, 0),\n",
       " (6, 'city', 'VARCHAR', 0, None, 0),\n",
       " (7, 'start_date', 'VARCHAR', 1, None, 0),\n",
       " (8, 'end_date', 'VARCHAR', 1, None, 0),\n",
       " (9, 'team_home', 'VARCHAR', 1, None, 0),\n",
       " (10, 'team_away', 'VARCHAR', 1, None, 0),\n",
       " (11, 'result', 'VARCHAR', 1, None, 0),\n",
       " (12, 'method', 'VARCHAR', 0, None, 0),\n",
       " (13, 'winner', 'VARCHAR', 0, None, 0),\n",
       " (14, 'won_by_type', 'VARCHAR', 0, None, 0),\n",
       " (15, 'won_by_value', 'INTEGER', 0, None, 0),\n",
       " (16, 'player_of_match', 'VARCHAR', 0, None, 0),\n",
       " (17, 'toss_won_by', 'VARCHAR', 0, None, 0),\n",
       " (18, 'toss_decision', 'VARCHAR', 0, None, 0),\n",
       " (19, 'umpire_first', 'VARCHAR', 0, None, 0),\n",
       " (20, 'umpire_second', 'VARCHAR', 0, None, 0),\n",
       " (21, 'umpire_third', 'VARCHAR', 0, None, 0),\n",
       " (22, 'umpire_forth', 'VARCHAR', 0, None, 0)]"
      ]
     },
     "execution_count": 37,
     "metadata": {},
     "output_type": "execute_result"
    }
   ],
   "source": [
    "list(c.execute(\"PRAGMA table_info(matches)\"))"
   ]
  },
  {
   "cell_type": "code",
   "execution_count": 39,
   "metadata": {},
   "outputs": [],
   "source": [
    "# Can see that dates are strings. Would be best to convert these to actual dates before using"
   ]
  },
  {
   "cell_type": "code",
   "execution_count": 40,
   "metadata": {},
   "outputs": [
    {
     "name": "stdout",
     "output_type": "stream",
     "text": [
      "   count(*)\n",
      "0      7360\n"
     ]
    }
   ],
   "source": [
    "print(pd.read_sql('SELECT count(*) FROM matches', conn))"
   ]
  },
  {
   "cell_type": "code",
   "execution_count": 41,
   "metadata": {},
   "outputs": [
    {
     "name": "stdout",
     "output_type": "stream",
     "text": [
      "<class 'pandas.core.frame.DataFrame'>\n",
      "RangeIndex: 7360 entries, 0 to 7359\n",
      "Data columns (total 23 columns):\n",
      " #   Column           Non-Null Count  Dtype  \n",
      "---  ------           --------------  -----  \n",
      " 0   id               7360 non-null   int64  \n",
      " 1   gender           7360 non-null   object \n",
      " 2   match_type       7360 non-null   object \n",
      " 3   competition      2638 non-null   object \n",
      " 4   max_overs        6731 non-null   float64\n",
      " 5   venue            7360 non-null   object \n",
      " 6   city             6449 non-null   object \n",
      " 7   start_date       7360 non-null   object \n",
      " 8   end_date         7360 non-null   object \n",
      " 9   team_home        7360 non-null   object \n",
      " 10  team_away        7360 non-null   object \n",
      " 11  result           7360 non-null   object \n",
      " 12  method           415 non-null    object \n",
      " 13  winner           7030 non-null   object \n",
      " 14  won_by_type      6982 non-null   object \n",
      " 15  won_by_value     6982 non-null   float64\n",
      " 16  player_of_match  6863 non-null   object \n",
      " 17  toss_won_by      7360 non-null   object \n",
      " 18  toss_decision    7360 non-null   object \n",
      " 19  umpire_first     7338 non-null   object \n",
      " 20  umpire_second    7338 non-null   object \n",
      " 21  umpire_third     4 non-null      object \n",
      " 22  umpire_forth     0 non-null      object \n",
      "dtypes: float64(2), int64(1), object(20)\n",
      "memory usage: 1.3+ MB\n"
     ]
    }
   ],
   "source": [
    "df_matches = pd.read_sql('SELECT * FROM matches', conn)\n",
    "df_matches.info()"
   ]
  },
  {
   "cell_type": "code",
   "execution_count": 30,
   "metadata": {},
   "outputs": [
    {
     "data": {
      "text/plain": [
       "gender\n",
       "female    1069\n",
       "male      6291\n",
       "Name: id, dtype: int64"
      ]
     },
     "execution_count": 30,
     "metadata": {},
     "output_type": "execute_result"
    }
   ],
   "source": [
    "df_matches.groupby('gender')['id'].count()"
   ]
  },
  {
   "cell_type": "code",
   "execution_count": 31,
   "metadata": {},
   "outputs": [
    {
     "data": {
      "text/plain": [
       "match_type\n",
       "IT20     332\n",
       "MDM       23\n",
       "ODI     1964\n",
       "ODM      373\n",
       "T20     4062\n",
       "Test     606\n",
       "Name: id, dtype: int64"
      ]
     },
     "execution_count": 31,
     "metadata": {},
     "output_type": "execute_result"
    }
   ],
   "source": [
    "df_matches.groupby('match_type')['id'].count()"
   ]
  },
  {
   "cell_type": "code",
   "execution_count": 43,
   "metadata": {},
   "outputs": [],
   "source": [
    "# A huge number of ODIs. Not sure what MDM or ODM are"
   ]
  },
  {
   "cell_type": "code",
   "execution_count": null,
   "metadata": {},
   "outputs": [],
   "source": []
  }
 ],
 "metadata": {
  "kernelspec": {
   "display_name": "Python 3",
   "language": "python",
   "name": "python3"
  },
  "language_info": {
   "codemirror_mode": {
    "name": "ipython",
    "version": 3
   },
   "file_extension": ".py",
   "mimetype": "text/x-python",
   "name": "python",
   "nbconvert_exporter": "python",
   "pygments_lexer": "ipython3",
   "version": "3.8.5"
  }
 },
 "nbformat": 4,
 "nbformat_minor": 4
}
