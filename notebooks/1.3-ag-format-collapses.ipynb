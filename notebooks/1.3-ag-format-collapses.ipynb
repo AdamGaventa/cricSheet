{
 "cells": [
  {
   "cell_type": "code",
   "execution_count": 51,
   "metadata": {},
   "outputs": [],
   "source": [
    "import pandas as pd\n",
    "import time\n",
    "from cricsheet.fow_analysis.collapses.extract_collapses import return_collapses"
   ]
  },
  {
   "cell_type": "markdown",
   "metadata": {},
   "source": [
    "## Load and Format Single Match"
   ]
  },
  {
   "cell_type": "code",
   "execution_count": 72,
   "metadata": {},
   "outputs": [],
   "source": [
    "filepath = '../data/raw/csv/howstat/fall_of_wickets/'\n",
    "file = 'fow_1999.csv'\n",
    "df = pd.read_csv(filepath+file, index_col=0, parse_dates=[2], infer_datetime_format=True)"
   ]
  },
  {
   "cell_type": "code",
   "execution_count": 73,
   "metadata": {},
   "outputs": [
    {
     "data": {
      "text/html": [
       "<div>\n",
       "<style scoped>\n",
       "    .dataframe tbody tr th:only-of-type {\n",
       "        vertical-align: middle;\n",
       "    }\n",
       "\n",
       "    .dataframe tbody tr th {\n",
       "        vertical-align: top;\n",
       "    }\n",
       "\n",
       "    .dataframe thead th {\n",
       "        text-align: right;\n",
       "    }\n",
       "</style>\n",
       "<table border=\"1\" class=\"dataframe\">\n",
       "  <thead>\n",
       "    <tr style=\"text-align: right;\">\n",
       "      <th></th>\n",
       "      <th>MatchId</th>\n",
       "      <th>MatchInnings</th>\n",
       "      <th>Team</th>\n",
       "      <th>level_3</th>\n",
       "      <th>start</th>\n",
       "      <th>end</th>\n",
       "      <th>runs</th>\n",
       "      <th>wickets_lost</th>\n",
       "      <th>batters</th>\n",
       "    </tr>\n",
       "  </thead>\n",
       "  <tbody>\n",
       "    <tr>\n",
       "      <th>0</th>\n",
       "      <td>1999</td>\n",
       "      <td>1</td>\n",
       "      <td>England</td>\n",
       "      <td>0</td>\n",
       "      <td>5.0</td>\n",
       "      <td>7.0</td>\n",
       "      <td>0.0</td>\n",
       "      <td>[5, 6, 7]</td>\n",
       "      <td>[Cook, Prior, Broad]</td>\n",
       "    </tr>\n",
       "    <tr>\n",
       "      <th>1</th>\n",
       "      <td>1999</td>\n",
       "      <td>2</td>\n",
       "      <td>Australia</td>\n",
       "      <td>0</td>\n",
       "      <td>6.0</td>\n",
       "      <td>9.0</td>\n",
       "      <td>22.0</td>\n",
       "      <td>[6, 7, 8, 9]</td>\n",
       "      <td>[Haddin, Hussey, Johnson, Siddle]</td>\n",
       "    </tr>\n",
       "    <tr>\n",
       "      <th>2</th>\n",
       "      <td>1999</td>\n",
       "      <td>2</td>\n",
       "      <td>Australia</td>\n",
       "      <td>1</td>\n",
       "      <td>7.0</td>\n",
       "      <td>10.0</td>\n",
       "      <td>23.0</td>\n",
       "      <td>[7, 8, 9, 10]</td>\n",
       "      <td>[Hussey, Johnson, Siddle, Doherty]</td>\n",
       "    </tr>\n",
       "    <tr>\n",
       "      <th>3</th>\n",
       "      <td>1999</td>\n",
       "      <td>2</td>\n",
       "      <td>Australia</td>\n",
       "      <td>2</td>\n",
       "      <td>1.0</td>\n",
       "      <td>3.0</td>\n",
       "      <td>22.0</td>\n",
       "      <td>[1, 2, 3]</td>\n",
       "      <td>[Watson, Ponting, Katich]</td>\n",
       "    </tr>\n",
       "  </tbody>\n",
       "</table>\n",
       "</div>"
      ],
      "text/plain": [
       "   MatchId  MatchInnings       Team  level_3  start   end  runs  \\\n",
       "0     1999             1    England        0    5.0   7.0   0.0   \n",
       "1     1999             2  Australia        0    6.0   9.0  22.0   \n",
       "2     1999             2  Australia        1    7.0  10.0  23.0   \n",
       "3     1999             2  Australia        2    1.0   3.0  22.0   \n",
       "\n",
       "    wickets_lost                             batters  \n",
       "0      [5, 6, 7]                [Cook, Prior, Broad]  \n",
       "1   [6, 7, 8, 9]   [Haddin, Hussey, Johnson, Siddle]  \n",
       "2  [7, 8, 9, 10]  [Hussey, Johnson, Siddle, Doherty]  \n",
       "3      [1, 2, 3]           [Watson, Ponting, Katich]  "
      ]
     },
     "execution_count": 73,
     "metadata": {},
     "output_type": "execute_result"
    }
   ],
   "source": [
    "df.groupby(['MatchId','MatchInnings', 'Team']).apply(return_collapses).reset_index()"
   ]
  },
  {
   "cell_type": "markdown",
   "metadata": {},
   "source": [
    "Questions to answer:\n",
    "- Number of collapses by Team, by year (unique collapses, innings with a collapse)\n",
    "- Positions most often involved\n",
    "- Batters most often involved"
   ]
  },
  {
   "cell_type": "markdown",
   "metadata": {},
   "source": [
    "## Load and Format All Matches"
   ]
  },
  {
   "cell_type": "markdown",
   "metadata": {},
   "source": [
    "### Experiments\n",
    "\n",
    "~2500 matches. \n",
    "1) What is the most efficient way to load all dataframes?\n",
    "\n",
    "2) Is it more efficient to load and format one-by-one, or concatenate into a single df and groupby the whole df\n"
   ]
  },
  {
   "cell_type": "code",
   "execution_count": 5,
   "metadata": {},
   "outputs": [],
   "source": [
    "# Try with 100 dataframes initially\n",
    "\n",
    "n = 100\n",
    "filepath = '../data/raw/csv/howstat/fall_of_wickets/'"
   ]
  },
  {
   "cell_type": "markdown",
   "metadata": {},
   "source": [
    "#### Method 1: Load all using glob generator + concat"
   ]
  },
  {
   "cell_type": "code",
   "execution_count": 50,
   "metadata": {},
   "outputs": [],
   "source": [
    "import glob\n",
    "import os"
   ]
  },
  {
   "cell_type": "code",
   "execution_count": 42,
   "metadata": {},
   "outputs": [
    {
     "name": "stdout",
     "output_type": "stream",
     "text": [
      "6.191442012786865 seconds\n"
     ]
    }
   ],
   "source": [
    "start = time.time()\n",
    "all_files = glob.glob(os.path.join(filepath, \"*.csv\"))\n",
    "all_files_to_load = all_files[:]\n",
    "\n",
    "df_from_each_file = (pd.read_csv(f, index_col=0, parse_dates=[2], infer_datetime_format=True) for f in all_files_to_load)\n",
    "concatenated_df   = pd.concat(df_from_each_file, ignore_index=True)\n",
    "\n",
    "end = time.time()\n",
    "time_taken = end - start\n",
    "print(f'{time_taken} seconds')"
   ]
  },
  {
   "cell_type": "code",
   "execution_count": 48,
   "metadata": {
    "scrolled": true
   },
   "outputs": [
    {
     "data": {
      "text/plain": [
       "'\\nAttempts:\\n13 seconds\\n6.19 seconds\\n\\n'"
      ]
     },
     "execution_count": 48,
     "metadata": {},
     "output_type": "execute_result"
    }
   ],
   "source": [
    "\"\"\"\n",
    "Attempts:\n",
    "13 seconds\n",
    "6.19 seconds\n",
    "\n",
    "\"\"\""
   ]
  },
  {
   "cell_type": "markdown",
   "metadata": {},
   "source": [
    "#### Method 2: os.listdir + concat"
   ]
  },
  {
   "cell_type": "code",
   "execution_count": 45,
   "metadata": {},
   "outputs": [
    {
     "name": "stdout",
     "output_type": "stream",
     "text": [
      "6.0129618644714355 seconds\n"
     ]
    }
   ],
   "source": [
    "from os import listdir\n",
    "\n",
    "start = time.time()\n",
    "df = pd.concat([pd.read_csv(f'{filepath}/{f}', index_col=0, parse_dates=[2], infer_datetime_format=True) for f in os.listdir(filepath) if f.endswith('.csv')])\n",
    "\n",
    "end = time.time()\n",
    "time_taken = end - start\n",
    "print(f'{time_taken} seconds')"
   ]
  },
  {
   "cell_type": "code",
   "execution_count": 46,
   "metadata": {},
   "outputs": [
    {
     "data": {
      "text/plain": [
       "'\\nAttempts:\\n6.37 seconds\\n6.012\\n'"
      ]
     },
     "execution_count": 46,
     "metadata": {},
     "output_type": "execute_result"
    }
   ],
   "source": [
    "\"\"\"\n",
    "Attempts:\n",
    "6.37 seconds\n",
    "6.012\n",
    "\"\"\""
   ]
  },
  {
   "cell_type": "markdown",
   "metadata": {},
   "source": [
    "#### Method 3: Dask"
   ]
  },
  {
   "cell_type": "code",
   "execution_count": 58,
   "metadata": {},
   "outputs": [
    {
     "name": "stdout",
     "output_type": "stream",
     "text": [
      "2.355700731277466 seconds\n"
     ]
    }
   ],
   "source": [
    "import dask.dataframe as dd\n",
    "\n",
    "start = time.time()\n",
    "df = dd.read_csv(f'{filepath}*.csv')\n",
    "\n",
    "end = time.time()\n",
    "time_taken = end - start\n",
    "print(f'{time_taken} seconds')"
   ]
  },
  {
   "cell_type": "code",
   "execution_count": 59,
   "metadata": {},
   "outputs": [
    {
     "name": "stdout",
     "output_type": "stream",
     "text": [
      "30.62992286682129 seconds\n"
     ]
    }
   ],
   "source": [
    "start = time.time()\n",
    "df = df.compute()\n",
    "\n",
    "end = time.time()\n",
    "time_taken = end - start\n",
    "print(f'{time_taken} seconds')"
   ]
  },
  {
   "cell_type": "code",
   "execution_count": 60,
   "metadata": {},
   "outputs": [
    {
     "data": {
      "text/plain": [
       "'\\nAttempts:\\n33 seconds\\n'"
      ]
     },
     "execution_count": 60,
     "metadata": {},
     "output_type": "execute_result"
    }
   ],
   "source": [
    "\"\"\"\n",
    "Attempts:\n",
    "33 seconds\n",
    "\"\"\""
   ]
  },
  {
   "cell_type": "code",
   "execution_count": 56,
   "metadata": {},
   "outputs": [
    {
     "name": "stdout",
     "output_type": "stream",
     "text": [
      "<class 'dask.dataframe.core.DataFrame'>\n",
      "Columns: 9 entries, Unnamed: 0 to Player\n",
      "dtypes: object(4), int64(5)"
     ]
    }
   ],
   "source": [
    "df.info()"
   ]
  },
  {
   "cell_type": "markdown",
   "metadata": {},
   "source": [
    "I prefer Method 1"
   ]
  },
  {
   "cell_type": "markdown",
   "metadata": {},
   "source": [
    "### Apply Chosen Method"
   ]
  },
  {
   "cell_type": "code",
   "execution_count": 61,
   "metadata": {},
   "outputs": [],
   "source": [
    "import glob\n",
    "import os\n",
    "\n",
    "all_files = glob.glob(os.path.join(filepath, \"*.csv\"))\n",
    "all_files_to_load = all_files[:]\n",
    "\n",
    "df_from_each_file = (pd.read_csv(f, index_col=0, parse_dates=[2], infer_datetime_format=True) for f in all_files_to_load)\n",
    "concatenated_df   = pd.concat(df_from_each_file, ignore_index=True)"
   ]
  },
  {
   "cell_type": "code",
   "execution_count": 62,
   "metadata": {},
   "outputs": [
    {
     "name": "stdout",
     "output_type": "stream",
     "text": [
      "<class 'pandas.core.frame.DataFrame'>\n",
      "RangeIndex: 74100 entries, 0 to 74099\n",
      "Data columns (total 8 columns):\n",
      " #   Column        Non-Null Count  Dtype         \n",
      "---  ------        --------------  -----         \n",
      " 0   MatchId       74100 non-null  int64         \n",
      " 1   MatchDate     74100 non-null  datetime64[ns]\n",
      " 2   MatchInnings  74100 non-null  int64         \n",
      " 3   Team          74100 non-null  object        \n",
      " 4   TeamInnings   74100 non-null  object        \n",
      " 5   Wicket        74100 non-null  int64         \n",
      " 6   Runs          74100 non-null  int64         \n",
      " 7   Player        74100 non-null  object        \n",
      "dtypes: datetime64[ns](1), int64(4), object(3)\n",
      "memory usage: 4.5+ MB\n"
     ]
    }
   ],
   "source": [
    "concatenated_df.info()"
   ]
  },
  {
   "cell_type": "code",
   "execution_count": 77,
   "metadata": {},
   "outputs": [],
   "source": [
    "concatenated_df.to_csv('../data/interim/howstat/fall_of_wickets/fow_all.csv')"
   ]
  },
  {
   "cell_type": "code",
   "execution_count": 63,
   "metadata": {},
   "outputs": [
    {
     "name": "stdout",
     "output_type": "stream",
     "text": [
      "13.68940782546997 seconds\n"
     ]
    }
   ],
   "source": [
    "start = time.time()\n",
    "\n",
    "df_grouped = df.groupby(['MatchId','MatchInnings', 'Team']).apply(return_collapses).reset_index()\n",
    "\n",
    "end = time.time()\n",
    "time_taken = end - start\n",
    "print(f'{time_taken} seconds')"
   ]
  },
  {
   "cell_type": "code",
   "execution_count": 65,
   "metadata": {},
   "outputs": [
    {
     "data": {
      "text/html": [
       "<div>\n",
       "<style scoped>\n",
       "    .dataframe tbody tr th:only-of-type {\n",
       "        vertical-align: middle;\n",
       "    }\n",
       "\n",
       "    .dataframe tbody tr th {\n",
       "        vertical-align: top;\n",
       "    }\n",
       "\n",
       "    .dataframe thead th {\n",
       "        text-align: right;\n",
       "    }\n",
       "</style>\n",
       "<table border=\"1\" class=\"dataframe\">\n",
       "  <thead>\n",
       "    <tr style=\"text-align: right;\">\n",
       "      <th></th>\n",
       "      <th>MatchId</th>\n",
       "      <th>MatchInnings</th>\n",
       "      <th>Team</th>\n",
       "      <th>level_3</th>\n",
       "      <th>start</th>\n",
       "      <th>end</th>\n",
       "      <th>runs</th>\n",
       "      <th>wickets_lost</th>\n",
       "      <th>batters</th>\n",
       "    </tr>\n",
       "  </thead>\n",
       "  <tbody>\n",
       "    <tr>\n",
       "      <th>0</th>\n",
       "      <td>1</td>\n",
       "      <td>1</td>\n",
       "      <td>Australia</td>\n",
       "      <td>0</td>\n",
       "      <td>4.0</td>\n",
       "      <td>6.0</td>\n",
       "      <td>25.0</td>\n",
       "      <td>[4, 5, 6]</td>\n",
       "      <td>[Cooper, Midwinter, Gregory]</td>\n",
       "    </tr>\n",
       "    <tr>\n",
       "      <th>1</th>\n",
       "      <td>1</td>\n",
       "      <td>2</td>\n",
       "      <td>England</td>\n",
       "      <td>0</td>\n",
       "      <td>5.0</td>\n",
       "      <td>8.0</td>\n",
       "      <td>24.0</td>\n",
       "      <td>[5, 6, 7, 8]</td>\n",
       "      <td>[Armitage, Shaw, Jupp, Emmett]</td>\n",
       "    </tr>\n",
       "    <tr>\n",
       "      <th>2</th>\n",
       "      <td>1</td>\n",
       "      <td>2</td>\n",
       "      <td>England</td>\n",
       "      <td>1</td>\n",
       "      <td>2.0</td>\n",
       "      <td>4.0</td>\n",
       "      <td>30.0</td>\n",
       "      <td>[2, 3, 4]</td>\n",
       "      <td>[Charlwood, Ulyett, Greenwood]</td>\n",
       "    </tr>\n",
       "    <tr>\n",
       "      <th>3</th>\n",
       "      <td>1</td>\n",
       "      <td>2</td>\n",
       "      <td>England</td>\n",
       "      <td>2</td>\n",
       "      <td>3.0</td>\n",
       "      <td>5.0</td>\n",
       "      <td>23.0</td>\n",
       "      <td>[3, 4, 5]</td>\n",
       "      <td>[Ulyett, Greenwood, Armitage]</td>\n",
       "    </tr>\n",
       "    <tr>\n",
       "      <th>4</th>\n",
       "      <td>1</td>\n",
       "      <td>2</td>\n",
       "      <td>England</td>\n",
       "      <td>3</td>\n",
       "      <td>4.0</td>\n",
       "      <td>6.0</td>\n",
       "      <td>26.0</td>\n",
       "      <td>[4, 5, 6]</td>\n",
       "      <td>[Greenwood, Armitage, Shaw]</td>\n",
       "    </tr>\n",
       "    <tr>\n",
       "      <th>...</th>\n",
       "      <td>...</td>\n",
       "      <td>...</td>\n",
       "      <td>...</td>\n",
       "      <td>...</td>\n",
       "      <td>...</td>\n",
       "      <td>...</td>\n",
       "      <td>...</td>\n",
       "      <td>...</td>\n",
       "      <td>...</td>\n",
       "    </tr>\n",
       "    <tr>\n",
       "      <th>13809</th>\n",
       "      <td>2422</td>\n",
       "      <td>2</td>\n",
       "      <td>South Africa</td>\n",
       "      <td>2</td>\n",
       "      <td>6.0</td>\n",
       "      <td>9.0</td>\n",
       "      <td>26.0</td>\n",
       "      <td>[6, 7, 8, 9]</td>\n",
       "      <td>[Mulder, Maharaj, Bavuma, Nortje]</td>\n",
       "    </tr>\n",
       "    <tr>\n",
       "      <th>13810</th>\n",
       "      <td>2422</td>\n",
       "      <td>2</td>\n",
       "      <td>South Africa</td>\n",
       "      <td>3</td>\n",
       "      <td>8.0</td>\n",
       "      <td>10.0</td>\n",
       "      <td>26.0</td>\n",
       "      <td>[8, 9, 10]</td>\n",
       "      <td>[Bavuma, Nortje, Sipamla]</td>\n",
       "    </tr>\n",
       "    <tr>\n",
       "      <th>13811</th>\n",
       "      <td>2422</td>\n",
       "      <td>3</td>\n",
       "      <td>Sri Lanka</td>\n",
       "      <td>0</td>\n",
       "      <td>6.0</td>\n",
       "      <td>10.0</td>\n",
       "      <td>30.0</td>\n",
       "      <td>[6, 7, 8, 9, 10]</td>\n",
       "      <td>[Dickwella, Shanaka, Silva, Chameera, Fernando]</td>\n",
       "    </tr>\n",
       "    <tr>\n",
       "      <th>13812</th>\n",
       "      <td>2422</td>\n",
       "      <td>3</td>\n",
       "      <td>Sri Lanka</td>\n",
       "      <td>1</td>\n",
       "      <td>2.0</td>\n",
       "      <td>4.0</td>\n",
       "      <td>23.0</td>\n",
       "      <td>[2, 3, 4]</td>\n",
       "      <td>[Thirimanne, Mendis, Bhanuka]</td>\n",
       "    </tr>\n",
       "    <tr>\n",
       "      <th>13813</th>\n",
       "      <td>2422</td>\n",
       "      <td>3</td>\n",
       "      <td>Sri Lanka</td>\n",
       "      <td>2</td>\n",
       "      <td>5.0</td>\n",
       "      <td>7.0</td>\n",
       "      <td>14.0</td>\n",
       "      <td>[5, 6, 7]</td>\n",
       "      <td>[Karunaratne, Dickwella, Shanaka]</td>\n",
       "    </tr>\n",
       "  </tbody>\n",
       "</table>\n",
       "<p>13814 rows × 9 columns</p>\n",
       "</div>"
      ],
      "text/plain": [
       "       MatchId  MatchInnings          Team  level_3  start   end  runs  \\\n",
       "0            1             1     Australia        0    4.0   6.0  25.0   \n",
       "1            1             2       England        0    5.0   8.0  24.0   \n",
       "2            1             2       England        1    2.0   4.0  30.0   \n",
       "3            1             2       England        2    3.0   5.0  23.0   \n",
       "4            1             2       England        3    4.0   6.0  26.0   \n",
       "...        ...           ...           ...      ...    ...   ...   ...   \n",
       "13809     2422             2  South Africa        2    6.0   9.0  26.0   \n",
       "13810     2422             2  South Africa        3    8.0  10.0  26.0   \n",
       "13811     2422             3     Sri Lanka        0    6.0  10.0  30.0   \n",
       "13812     2422             3     Sri Lanka        1    2.0   4.0  23.0   \n",
       "13813     2422             3     Sri Lanka        2    5.0   7.0  14.0   \n",
       "\n",
       "           wickets_lost                                          batters  \n",
       "0             [4, 5, 6]                     [Cooper, Midwinter, Gregory]  \n",
       "1          [5, 6, 7, 8]                   [Armitage, Shaw, Jupp, Emmett]  \n",
       "2             [2, 3, 4]                   [Charlwood, Ulyett, Greenwood]  \n",
       "3             [3, 4, 5]                    [Ulyett, Greenwood, Armitage]  \n",
       "4             [4, 5, 6]                      [Greenwood, Armitage, Shaw]  \n",
       "...                 ...                                              ...  \n",
       "13809      [6, 7, 8, 9]                [Mulder, Maharaj, Bavuma, Nortje]  \n",
       "13810        [8, 9, 10]                        [Bavuma, Nortje, Sipamla]  \n",
       "13811  [6, 7, 8, 9, 10]  [Dickwella, Shanaka, Silva, Chameera, Fernando]  \n",
       "13812         [2, 3, 4]                    [Thirimanne, Mendis, Bhanuka]  \n",
       "13813         [5, 6, 7]                [Karunaratne, Dickwella, Shanaka]  \n",
       "\n",
       "[13814 rows x 9 columns]"
      ]
     },
     "execution_count": 65,
     "metadata": {},
     "output_type": "execute_result"
    }
   ],
   "source": [
    "df_grouped"
   ]
  },
  {
   "cell_type": "code",
   "execution_count": 76,
   "metadata": {},
   "outputs": [],
   "source": [
    "df_grouped.to_csv('../data/processed/collapses/all_collapses.csv')"
   ]
  }
 ],
 "metadata": {
  "kernelspec": {
   "display_name": "Python 3",
   "language": "python",
   "name": "python3"
  },
  "language_info": {
   "codemirror_mode": {
    "name": "ipython",
    "version": 3
   },
   "file_extension": ".py",
   "mimetype": "text/x-python",
   "name": "python",
   "nbconvert_exporter": "python",
   "pygments_lexer": "ipython3",
   "version": "3.8.5"
  }
 },
 "nbformat": 4,
 "nbformat_minor": 4
}
