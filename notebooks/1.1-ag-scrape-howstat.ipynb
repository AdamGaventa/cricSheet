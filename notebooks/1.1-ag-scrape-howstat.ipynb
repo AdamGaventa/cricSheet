{
 "cells": [
  {
   "cell_type": "markdown",
   "metadata": {},
   "source": [
    "# Batting collapse frequency. Are England unique?"
   ]
  },
  {
   "cell_type": "markdown",
   "metadata": {},
   "source": [
    "### Research Question:\n",
    "- How often do batting collapses happen?\n",
    "- Does England collapse more often that other teams?\n",
    "- Is this statement true? \"Joe Root rarely stops a collapse, and is often a part of it\"\n",
    "- Which players are best at stopping a collapse?\n",
    "\n",
    "\n",
    "### Methodology:\n",
    "- Create a table of fall of wicket:\n",
    "    - MatchID\n",
    "    - Date\n",
    "    - Batting team\n",
    "    - Bowling team\n",
    "    - Match type\n",
    "    - Innings\n",
    "    - Fall of Wicket 1 (runs, batsman)\n",
    "    - Fall of Wicket 2 (runs, batsman)\n",
    "    - etc.\n"
   ]
  },
  {
   "cell_type": "markdown",
   "metadata": {},
   "source": [
    "### Problem breakdown:\n",
    "- Data Source: howstat cricket scorecards\n",
    "- Extract Fall Of Wickets from a single game\n",
    "- Extract FoW from multiple games\n",
    "- Extract FoW from all (relevant) games"
   ]
  },
  {
   "cell_type": "code",
   "execution_count": 1,
   "metadata": {},
   "outputs": [],
   "source": [
    "import urllib\n",
    "import re\n",
    "import pandas as pd\n",
    "import numpy as np\n",
    "\n",
    "from dateutil.parser import parse\n",
    "from bs4 import BeautifulSoup"
   ]
  },
  {
   "cell_type": "code",
   "execution_count": 2,
   "metadata": {},
   "outputs": [],
   "source": [
    "with urllib.request.urlopen(\"http://howstat.com/cricket/Statistics/Matches/MatchScorecard.asp?MatchCode=1800\") as url:\n",
    "    s = url.read()"
   ]
  },
  {
   "cell_type": "code",
   "execution_count": 3,
   "metadata": {},
   "outputs": [],
   "source": [
    "soup = BeautifulSoup(s, 'html.parser')"
   ]
  },
  {
   "cell_type": "code",
   "execution_count": 4,
   "metadata": {},
   "outputs": [],
   "source": [
    "from cricsheet.io_html import scrape_howstat"
   ]
  },
  {
   "cell_type": "code",
   "execution_count": 5,
   "metadata": {},
   "outputs": [],
   "source": [
    "d_match_info = scrape_howstat.parse_match_info(soup)"
   ]
  },
  {
   "cell_type": "code",
   "execution_count": 6,
   "metadata": {},
   "outputs": [
    {
     "name": "stdout",
     "output_type": "stream",
     "text": [
      "Parsed scorecard for: Pakistan 1st innings\n",
      "Parsed scorecard for: India 1st innings\n",
      "Parsed scorecard for: Pakistan 2nd innings\n",
      "Parsed scorecard for: India 2nd innings\n"
     ]
    }
   ],
   "source": [
    "# Loop through each TextBlackBold8 element\n",
    "# If the text contains the word 'Innings', the next section will be the innings scorecard: so parse it.\n",
    "d_scorecards = {}\n",
    "l_innings = []\n",
    "for item in soup.find_all(class_=\"TextBlackBold8\"):\n",
    "    item_text = item.text.replace('\\xa0', ' ').strip()\n",
    "    if 'Innings' in item_text:\n",
    "        \n",
    "        # Extract the Innings number and Team\n",
    "        #l_innings.append(item_text.split('Innings')[0])\n",
    "        \n",
    "        # Go through siblings until the Total. This will be the batting scorecard\n",
    "        #print(item.parent.next_sibling)\n",
    "        #l_items.append(item)\n",
    "        \n",
    "        # parse the scorecard\n",
    "        innings, df_scorecard = scrape_howstat.parse_scorecard(item)\n",
    "        print(f'Parsed scorecard for: {innings} innings')\n",
    "        l_innings.append(innings)\n",
    "        \n",
    "        \n",
    "        d_scorecards[innings] = df_scorecard"
   ]
  },
  {
   "cell_type": "code",
   "execution_count": 7,
   "metadata": {},
   "outputs": [
    {
     "name": "stdout",
     "output_type": "stream",
     "text": [
      "Parsed FoW\n",
      "Parsed FoW\n",
      "Parsed FoW\n",
      "Parsed FoW\n",
      "There are 4 innings with fall of wicket data\n"
     ]
    }
   ],
   "source": [
    "# Loop through each Fall of Wickets section, and parse the FoW record.   \n",
    "# Store in a dict with keys as innings names from parsed scorecard section.\n",
    "# This assumes there will always be a FoW for each scorecard\n",
    "l_fow = []\n",
    "fow_sections = soup.findAll(\"td\", text=re.compile('Fall of Wickets'))\n",
    "for item in fow_sections:\n",
    "    df_fow = scrape_howstat.parse_fall_of_wickets(item)\n",
    "    l_fow.append(df_fow)\n",
    "    print('Parsed FoW')\n",
    " \n",
    "# Convert list of FoW dfs to dict\n",
    "if len(l_fow) == len(l_innings):\n",
    "    print(f'There are {len(l_fow)} innings with fall of wicket data')\n",
    "    d_fow = {l_innings[i]: l_fow[i] for i in range(len(l_fow))}\n",
    "    "
   ]
  },
  {
   "cell_type": "code",
   "execution_count": 8,
   "metadata": {},
   "outputs": [],
   "source": [
    "df_scorecards = scrape_howstat.clean_scorecards(d_scorecards, d_match_info, l_innings)"
   ]
  },
  {
   "cell_type": "code",
   "execution_count": 9,
   "metadata": {},
   "outputs": [],
   "source": [
    "df_fow = scrape_howstat.clean_fow(d_fow, d_match_info, l_innings)"
   ]
  },
  {
   "cell_type": "code",
   "execution_count": 10,
   "metadata": {},
   "outputs": [
    {
     "data": {
      "text/html": [
       "<div>\n",
       "<style scoped>\n",
       "    .dataframe tbody tr th:only-of-type {\n",
       "        vertical-align: middle;\n",
       "    }\n",
       "\n",
       "    .dataframe tbody tr th {\n",
       "        vertical-align: top;\n",
       "    }\n",
       "\n",
       "    .dataframe thead th {\n",
       "        text-align: right;\n",
       "    }\n",
       "</style>\n",
       "<table border=\"1\" class=\"dataframe\">\n",
       "  <thead>\n",
       "    <tr style=\"text-align: right;\">\n",
       "      <th></th>\n",
       "      <th>MatchDate</th>\n",
       "      <th>Team</th>\n",
       "      <th>Innings</th>\n",
       "      <th>ScorecardIdx</th>\n",
       "      <th>Player</th>\n",
       "      <th>Details</th>\n",
       "      <th>R</th>\n",
       "      <th>BF</th>\n",
       "      <th>4s</th>\n",
       "      <th>6s</th>\n",
       "      <th>SR</th>\n",
       "      <th>% of Total</th>\n",
       "    </tr>\n",
       "  </thead>\n",
       "  <tbody>\n",
       "    <tr>\n",
       "      <th>0</th>\n",
       "      <td>2006-01-21</td>\n",
       "      <td>Pakistan</td>\n",
       "      <td>1st</td>\n",
       "      <td>0</td>\n",
       "      <td>Shoaib Malik</td>\n",
       "      <td>c  Dravid b R P Singh</td>\n",
       "      <td>19.0</td>\n",
       "      <td>33.0</td>\n",
       "      <td>4.0</td>\n",
       "      <td>0.0</td>\n",
       "      <td>57.58</td>\n",
       "      <td>3.23%</td>\n",
       "    </tr>\n",
       "    <tr>\n",
       "      <th>1</th>\n",
       "      <td>2006-01-21</td>\n",
       "      <td>Pakistan</td>\n",
       "      <td>1st</td>\n",
       "      <td>1</td>\n",
       "      <td>Salman Butt</td>\n",
       "      <td>c †Dhoni b  Khan</td>\n",
       "      <td>37.0</td>\n",
       "      <td>57.0</td>\n",
       "      <td>7.0</td>\n",
       "      <td>0.0</td>\n",
       "      <td>64.91</td>\n",
       "      <td>6.29%</td>\n",
       "    </tr>\n",
       "    <tr>\n",
       "      <th>2</th>\n",
       "      <td>2006-01-21</td>\n",
       "      <td>Pakistan</td>\n",
       "      <td>1st</td>\n",
       "      <td>2</td>\n",
       "      <td>Younis Khan</td>\n",
       "      <td>c  Yuvraj Singh b R P Singh</td>\n",
       "      <td>83.0</td>\n",
       "      <td>131.0</td>\n",
       "      <td>13.0</td>\n",
       "      <td>0.0</td>\n",
       "      <td>63.36</td>\n",
       "      <td>14.12%</td>\n",
       "    </tr>\n",
       "    <tr>\n",
       "      <th>3</th>\n",
       "      <td>2006-01-21</td>\n",
       "      <td>Pakistan</td>\n",
       "      <td>1st</td>\n",
       "      <td>3</td>\n",
       "      <td>Mohammad Yousuf</td>\n",
       "      <td>c †Dhoni b R P Singh</td>\n",
       "      <td>65.0</td>\n",
       "      <td>119.0</td>\n",
       "      <td>8.0</td>\n",
       "      <td>1.0</td>\n",
       "      <td>54.62</td>\n",
       "      <td>11.05%</td>\n",
       "    </tr>\n",
       "    <tr>\n",
       "      <th>4</th>\n",
       "      <td>2006-01-21</td>\n",
       "      <td>Pakistan</td>\n",
       "      <td>1st</td>\n",
       "      <td>4</td>\n",
       "      <td>Inzamam-ul-Haq*</td>\n",
       "      <td>c †Dhoni b  Khan</td>\n",
       "      <td>119.0</td>\n",
       "      <td>193.0</td>\n",
       "      <td>12.0</td>\n",
       "      <td>1.0</td>\n",
       "      <td>61.66</td>\n",
       "      <td>20.24%</td>\n",
       "    </tr>\n",
       "  </tbody>\n",
       "</table>\n",
       "</div>"
      ],
      "text/plain": [
       "   MatchDate      Team Innings  ScorecardIdx           Player  \\\n",
       "0 2006-01-21  Pakistan     1st             0     Shoaib Malik   \n",
       "1 2006-01-21  Pakistan     1st             1      Salman Butt   \n",
       "2 2006-01-21  Pakistan     1st             2      Younis Khan   \n",
       "3 2006-01-21  Pakistan     1st             3  Mohammad Yousuf   \n",
       "4 2006-01-21  Pakistan     1st             4  Inzamam-ul-Haq*   \n",
       "\n",
       "                       Details      R     BF    4s   6s     SR % of Total  \n",
       "0        c  Dravid b R P Singh   19.0   33.0   4.0  0.0  57.58      3.23%  \n",
       "1             c †Dhoni b  Khan   37.0   57.0   7.0  0.0  64.91      6.29%  \n",
       "2  c  Yuvraj Singh b R P Singh   83.0  131.0  13.0  0.0  63.36     14.12%  \n",
       "3         c †Dhoni b R P Singh   65.0  119.0   8.0  1.0  54.62     11.05%  \n",
       "4             c †Dhoni b  Khan  119.0  193.0  12.0  1.0  61.66     20.24%  "
      ]
     },
     "execution_count": 10,
     "metadata": {},
     "output_type": "execute_result"
    }
   ],
   "source": [
    "df_scorecards.head()"
   ]
  },
  {
   "cell_type": "code",
   "execution_count": 11,
   "metadata": {},
   "outputs": [
    {
     "data": {
      "text/html": [
       "<div>\n",
       "<style scoped>\n",
       "    .dataframe tbody tr th:only-of-type {\n",
       "        vertical-align: middle;\n",
       "    }\n",
       "\n",
       "    .dataframe tbody tr th {\n",
       "        vertical-align: top;\n",
       "    }\n",
       "\n",
       "    .dataframe thead th {\n",
       "        text-align: right;\n",
       "    }\n",
       "</style>\n",
       "<table border=\"1\" class=\"dataframe\">\n",
       "  <thead>\n",
       "    <tr style=\"text-align: right;\">\n",
       "      <th></th>\n",
       "      <th>MatchDate</th>\n",
       "      <th>Team</th>\n",
       "      <th>Innings</th>\n",
       "      <th>Wicket</th>\n",
       "      <th>Runs</th>\n",
       "      <th>Player</th>\n",
       "    </tr>\n",
       "  </thead>\n",
       "  <tbody>\n",
       "    <tr>\n",
       "      <th>0</th>\n",
       "      <td>2006-01-21</td>\n",
       "      <td>Pakistan</td>\n",
       "      <td>1st</td>\n",
       "      <td>1</td>\n",
       "      <td>49</td>\n",
       "      <td>Malik</td>\n",
       "    </tr>\n",
       "    <tr>\n",
       "      <th>1</th>\n",
       "      <td>2006-01-21</td>\n",
       "      <td>Pakistan</td>\n",
       "      <td>1st</td>\n",
       "      <td>2</td>\n",
       "      <td>65</td>\n",
       "      <td>Butt</td>\n",
       "    </tr>\n",
       "    <tr>\n",
       "      <th>2</th>\n",
       "      <td>2006-01-21</td>\n",
       "      <td>Pakistan</td>\n",
       "      <td>1st</td>\n",
       "      <td>3</td>\n",
       "      <td>207</td>\n",
       "      <td>Khan</td>\n",
       "    </tr>\n",
       "    <tr>\n",
       "      <th>3</th>\n",
       "      <td>2006-01-21</td>\n",
       "      <td>Pakistan</td>\n",
       "      <td>1st</td>\n",
       "      <td>4</td>\n",
       "      <td>216</td>\n",
       "      <td>Yousuf</td>\n",
       "    </tr>\n",
       "    <tr>\n",
       "      <th>4</th>\n",
       "      <td>2006-01-21</td>\n",
       "      <td>Pakistan</td>\n",
       "      <td>1st</td>\n",
       "      <td>5</td>\n",
       "      <td>467</td>\n",
       "      <td>Afridi</td>\n",
       "    </tr>\n",
       "  </tbody>\n",
       "</table>\n",
       "</div>"
      ],
      "text/plain": [
       "   MatchDate      Team Innings  Wicket  Runs  Player\n",
       "0 2006-01-21  Pakistan     1st       1    49   Malik\n",
       "1 2006-01-21  Pakistan     1st       2    65    Butt\n",
       "2 2006-01-21  Pakistan     1st       3   207    Khan\n",
       "3 2006-01-21  Pakistan     1st       4   216  Yousuf\n",
       "4 2006-01-21  Pakistan     1st       5   467  Afridi"
      ]
     },
     "execution_count": 11,
     "metadata": {},
     "output_type": "execute_result"
    }
   ],
   "source": [
    "df_fow.head()"
   ]
  },
  {
   "cell_type": "code",
   "execution_count": 12,
   "metadata": {},
   "outputs": [
    {
     "data": {
      "text/plain": [
       "'HTML structure: \\n    innings + team name\\n    innings scorecard\\n    fall of wickets\\n    innings + team name\\n    innings scorecard\\n    fall of wickets\\n    \\n    etc.\\n    \\n    \\nProcedure:\\nGet this table:\\n    Read innings + team name (s)\\n    Read the scorecard (s)\\n    Read the FoW (s)\\n    Split by innings + team name.\\nReformat into readable table\\n'"
      ]
     },
     "execution_count": 12,
     "metadata": {},
     "output_type": "execute_result"
    }
   ],
   "source": [
    "# FoW\n",
    "\"\"\"HTML structure: \n",
    "    innings + team name\n",
    "    innings scorecard\n",
    "    fall of wickets\n",
    "    innings + team name\n",
    "    innings scorecard\n",
    "    fall of wickets\n",
    "    \n",
    "    etc.\n",
    "    \n",
    "    \n",
    "Procedure:\n",
    "Get this table:\n",
    "    Read innings + team name (s)\n",
    "    Read the scorecard (s)\n",
    "    Read the FoW (s)\n",
    "    Split by innings + team name.\n",
    "Reformat into readable table\n",
    "\"\"\"\n",
    "\n",
    "\n"
   ]
  },
  {
   "cell_type": "code",
   "execution_count": null,
   "metadata": {},
   "outputs": [],
   "source": []
  }
 ],
 "metadata": {
  "kernelspec": {
   "display_name": "Python 3",
   "language": "python",
   "name": "python3"
  },
  "language_info": {
   "codemirror_mode": {
    "name": "ipython",
    "version": 3
   },
   "file_extension": ".py",
   "mimetype": "text/x-python",
   "name": "python",
   "nbconvert_exporter": "python",
   "pygments_lexer": "ipython3",
   "version": "3.8.5"
  }
 },
 "nbformat": 4,
 "nbformat_minor": 4
}
