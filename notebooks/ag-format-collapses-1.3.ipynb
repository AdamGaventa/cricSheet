{
 "cells": [
  {
   "cell_type": "code",
   "execution_count": 1,
   "metadata": {},
   "outputs": [],
   "source": [
    "import pandas as pd\n",
    "import time\n",
    "from cricsheet.fow_analysis.collapses.extract_collapses import return_collapses"
   ]
  },
  {
   "cell_type": "markdown",
   "metadata": {},
   "source": [
    "## Load and Format Single Match"
   ]
  },
  {
   "cell_type": "code",
   "execution_count": 72,
   "metadata": {},
   "outputs": [],
   "source": [
    "filepath = '../data/raw/csv/howstat/fall_of_wickets/'\n",
    "file = 'fow_1999.csv'\n",
    "df = pd.read_csv(filepath+file, index_col=0, parse_dates=[2], infer_datetime_format=True)"
   ]
  },
  {
   "cell_type": "code",
   "execution_count": 73,
   "metadata": {},
   "outputs": [
    {
     "data": {
      "text/html": [
       "<div>\n",
       "<style scoped>\n",
       "    .dataframe tbody tr th:only-of-type {\n",
       "        vertical-align: middle;\n",
       "    }\n",
       "\n",
       "    .dataframe tbody tr th {\n",
       "        vertical-align: top;\n",
       "    }\n",
       "\n",
       "    .dataframe thead th {\n",
       "        text-align: right;\n",
       "    }\n",
       "</style>\n",
       "<table border=\"1\" class=\"dataframe\">\n",
       "  <thead>\n",
       "    <tr style=\"text-align: right;\">\n",
       "      <th></th>\n",
       "      <th>MatchId</th>\n",
       "      <th>MatchInnings</th>\n",
       "      <th>Team</th>\n",
       "      <th>level_3</th>\n",
       "      <th>start</th>\n",
       "      <th>end</th>\n",
       "      <th>runs</th>\n",
       "      <th>wickets_lost</th>\n",
       "      <th>batters</th>\n",
       "    </tr>\n",
       "  </thead>\n",
       "  <tbody>\n",
       "    <tr>\n",
       "      <th>0</th>\n",
       "      <td>1999</td>\n",
       "      <td>1</td>\n",
       "      <td>England</td>\n",
       "      <td>0</td>\n",
       "      <td>5.0</td>\n",
       "      <td>7.0</td>\n",
       "      <td>0.0</td>\n",
       "      <td>[5, 6, 7]</td>\n",
       "      <td>[Cook, Prior, Broad]</td>\n",
       "    </tr>\n",
       "    <tr>\n",
       "      <th>1</th>\n",
       "      <td>1999</td>\n",
       "      <td>2</td>\n",
       "      <td>Australia</td>\n",
       "      <td>0</td>\n",
       "      <td>6.0</td>\n",
       "      <td>9.0</td>\n",
       "      <td>22.0</td>\n",
       "      <td>[6, 7, 8, 9]</td>\n",
       "      <td>[Haddin, Hussey, Johnson, Siddle]</td>\n",
       "    </tr>\n",
       "    <tr>\n",
       "      <th>2</th>\n",
       "      <td>1999</td>\n",
       "      <td>2</td>\n",
       "      <td>Australia</td>\n",
       "      <td>1</td>\n",
       "      <td>7.0</td>\n",
       "      <td>10.0</td>\n",
       "      <td>23.0</td>\n",
       "      <td>[7, 8, 9, 10]</td>\n",
       "      <td>[Hussey, Johnson, Siddle, Doherty]</td>\n",
       "    </tr>\n",
       "    <tr>\n",
       "      <th>3</th>\n",
       "      <td>1999</td>\n",
       "      <td>2</td>\n",
       "      <td>Australia</td>\n",
       "      <td>2</td>\n",
       "      <td>1.0</td>\n",
       "      <td>3.0</td>\n",
       "      <td>22.0</td>\n",
       "      <td>[1, 2, 3]</td>\n",
       "      <td>[Watson, Ponting, Katich]</td>\n",
       "    </tr>\n",
       "  </tbody>\n",
       "</table>\n",
       "</div>"
      ],
      "text/plain": [
       "   MatchId  MatchInnings       Team  level_3  start   end  runs  \\\n",
       "0     1999             1    England        0    5.0   7.0   0.0   \n",
       "1     1999             2  Australia        0    6.0   9.0  22.0   \n",
       "2     1999             2  Australia        1    7.0  10.0  23.0   \n",
       "3     1999             2  Australia        2    1.0   3.0  22.0   \n",
       "\n",
       "    wickets_lost                             batters  \n",
       "0      [5, 6, 7]                [Cook, Prior, Broad]  \n",
       "1   [6, 7, 8, 9]   [Haddin, Hussey, Johnson, Siddle]  \n",
       "2  [7, 8, 9, 10]  [Hussey, Johnson, Siddle, Doherty]  \n",
       "3      [1, 2, 3]           [Watson, Ponting, Katich]  "
      ]
     },
     "execution_count": 73,
     "metadata": {},
     "output_type": "execute_result"
    }
   ],
   "source": [
    "df.groupby(['MatchId','MatchInnings', 'Team']).apply(return_collapses).reset_index()"
   ]
  },
  {
   "cell_type": "markdown",
   "metadata": {},
   "source": [
    "Questions to answer:\n",
    "- Number of collapses by Team, by year (unique collapses, innings with a collapse)\n",
    "- Positions most often involved\n",
    "- Batters most often involved"
   ]
  },
  {
   "cell_type": "markdown",
   "metadata": {},
   "source": [
    "## Load and Format All Matches"
   ]
  },
  {
   "cell_type": "markdown",
   "metadata": {},
   "source": [
    "### Experiments - Concatenating Dfs\n",
    "\n",
    "~2500 matches. \n",
    "1) What is the most efficient way to load all dataframes?\n",
    "\n",
    "2) Is it more efficient to load and format one-by-one, or concatenate into a single df and groupby the whole df\n"
   ]
  },
  {
   "cell_type": "code",
   "execution_count": 5,
   "metadata": {},
   "outputs": [],
   "source": [
    "# Try with 100 dataframes initially\n",
    "\n",
    "n = 100\n",
    "filepath = '../data/raw/csv/howstat/fall_of_wickets/'"
   ]
  },
  {
   "cell_type": "markdown",
   "metadata": {},
   "source": [
    "#### Method 1: Load all using glob generator + concat"
   ]
  },
  {
   "cell_type": "code",
   "execution_count": 50,
   "metadata": {},
   "outputs": [],
   "source": [
    "import glob\n",
    "import os"
   ]
  },
  {
   "cell_type": "code",
   "execution_count": 42,
   "metadata": {},
   "outputs": [
    {
     "name": "stdout",
     "output_type": "stream",
     "text": [
      "6.191442012786865 seconds\n"
     ]
    }
   ],
   "source": [
    "start = time.time()\n",
    "all_files = glob.glob(os.path.join(filepath, \"*.csv\"))\n",
    "all_files_to_load = all_files[:]\n",
    "\n",
    "df_from_each_file = (pd.read_csv(f, index_col=0, parse_dates=[2], infer_datetime_format=True) for f in all_files_to_load)\n",
    "concatenated_df   = pd.concat(df_from_each_file, ignore_index=True)\n",
    "\n",
    "end = time.time()\n",
    "time_taken = end - start\n",
    "print(f'{time_taken} seconds')"
   ]
  },
  {
   "cell_type": "code",
   "execution_count": 48,
   "metadata": {
    "scrolled": true
   },
   "outputs": [
    {
     "data": {
      "text/plain": [
       "'\\nAttempts:\\n13 seconds\\n6.19 seconds\\n\\n'"
      ]
     },
     "execution_count": 48,
     "metadata": {},
     "output_type": "execute_result"
    }
   ],
   "source": [
    "\"\"\"\n",
    "Attempts:\n",
    "13 seconds\n",
    "6.19 seconds\n",
    "\n",
    "\"\"\""
   ]
  },
  {
   "cell_type": "markdown",
   "metadata": {},
   "source": [
    "#### Method 2: os.listdir + concat"
   ]
  },
  {
   "cell_type": "code",
   "execution_count": 45,
   "metadata": {},
   "outputs": [
    {
     "name": "stdout",
     "output_type": "stream",
     "text": [
      "6.0129618644714355 seconds\n"
     ]
    }
   ],
   "source": [
    "from os import listdir\n",
    "\n",
    "start = time.time()\n",
    "df = pd.concat([pd.read_csv(f'{filepath}/{f}', index_col=0, parse_dates=[2], infer_datetime_format=True) for f in os.listdir(filepath) if f.endswith('.csv')])\n",
    "\n",
    "end = time.time()\n",
    "time_taken = end - start\n",
    "print(f'{time_taken} seconds')"
   ]
  },
  {
   "cell_type": "code",
   "execution_count": 46,
   "metadata": {},
   "outputs": [
    {
     "data": {
      "text/plain": [
       "'\\nAttempts:\\n6.37 seconds\\n6.012\\n'"
      ]
     },
     "execution_count": 46,
     "metadata": {},
     "output_type": "execute_result"
    }
   ],
   "source": [
    "\"\"\"\n",
    "Attempts:\n",
    "6.37 seconds\n",
    "6.012\n",
    "\"\"\""
   ]
  },
  {
   "cell_type": "markdown",
   "metadata": {},
   "source": [
    "#### Method 3: Dask"
   ]
  },
  {
   "cell_type": "code",
   "execution_count": 58,
   "metadata": {},
   "outputs": [
    {
     "name": "stdout",
     "output_type": "stream",
     "text": [
      "2.355700731277466 seconds\n"
     ]
    }
   ],
   "source": [
    "import dask.dataframe as dd\n",
    "\n",
    "start = time.time()\n",
    "df = dd.read_csv(f'{filepath}*.csv')\n",
    "\n",
    "end = time.time()\n",
    "time_taken = end - start\n",
    "print(f'{time_taken} seconds')"
   ]
  },
  {
   "cell_type": "code",
   "execution_count": 59,
   "metadata": {},
   "outputs": [
    {
     "name": "stdout",
     "output_type": "stream",
     "text": [
      "30.62992286682129 seconds\n"
     ]
    }
   ],
   "source": [
    "start = time.time()\n",
    "df = df.compute()\n",
    "\n",
    "end = time.time()\n",
    "time_taken = end - start\n",
    "print(f'{time_taken} seconds')"
   ]
  },
  {
   "cell_type": "code",
   "execution_count": 60,
   "metadata": {},
   "outputs": [
    {
     "data": {
      "text/plain": [
       "'\\nAttempts:\\n33 seconds\\n'"
      ]
     },
     "execution_count": 60,
     "metadata": {},
     "output_type": "execute_result"
    }
   ],
   "source": [
    "\"\"\"\n",
    "Attempts:\n",
    "33 seconds\n",
    "\"\"\""
   ]
  },
  {
   "cell_type": "code",
   "execution_count": 56,
   "metadata": {},
   "outputs": [
    {
     "name": "stdout",
     "output_type": "stream",
     "text": [
      "<class 'dask.dataframe.core.DataFrame'>\n",
      "Columns: 9 entries, Unnamed: 0 to Player\n",
      "dtypes: object(4), int64(5)"
     ]
    }
   ],
   "source": [
    "df.info()"
   ]
  },
  {
   "cell_type": "markdown",
   "metadata": {},
   "source": [
    "I prefer Method 1"
   ]
  },
  {
   "cell_type": "markdown",
   "metadata": {},
   "source": [
    "### Apply Chosen Method"
   ]
  },
  {
   "cell_type": "code",
   "execution_count": 2,
   "metadata": {},
   "outputs": [],
   "source": [
    "import glob\n",
    "import os\n",
    "\n",
    "filepath_fow = '../data/raw/csv/howstat/fall_of_wickets/'\n",
    "\n",
    "all_fow = glob.glob(os.path.join(filepath_fow, \"*.csv\"))\n",
    "all_fow_to_load = all_fow[:]\n",
    "\n",
    "df_fow_from_each_file = (pd.read_csv(f, index_col=0, parse_dates=[2], infer_datetime_format=True) for f in all_fow_to_load)\n",
    "concatenated_df_fow   = pd.concat(df_fow_from_each_file, ignore_index=True)"
   ]
  },
  {
   "cell_type": "code",
   "execution_count": 3,
   "metadata": {},
   "outputs": [
    {
     "name": "stdout",
     "output_type": "stream",
     "text": [
      "<class 'pandas.core.frame.DataFrame'>\n",
      "RangeIndex: 74100 entries, 0 to 74099\n",
      "Data columns (total 8 columns):\n",
      " #   Column        Non-Null Count  Dtype         \n",
      "---  ------        --------------  -----         \n",
      " 0   MatchId       74100 non-null  int64         \n",
      " 1   MatchDate     74100 non-null  datetime64[ns]\n",
      " 2   MatchInnings  74100 non-null  int64         \n",
      " 3   Team          74100 non-null  object        \n",
      " 4   TeamInnings   74100 non-null  object        \n",
      " 5   Wicket        74100 non-null  int64         \n",
      " 6   Runs          74100 non-null  int64         \n",
      " 7   Player        74100 non-null  object        \n",
      "dtypes: datetime64[ns](1), int64(4), object(3)\n",
      "memory usage: 4.5+ MB\n"
     ]
    }
   ],
   "source": [
    "concatenated_df_fow.info()"
   ]
  },
  {
   "cell_type": "code",
   "execution_count": 5,
   "metadata": {},
   "outputs": [],
   "source": [
    "#concatenated_df_fow.to_csv('../data/interim/howstat/fall_of_wickets/fow_all.csv')\n",
    "concatenated_df_fow = pd.read_csv('../data/interim/howstat/fall_of_wickets/fow_all.csv')"
   ]
  },
  {
   "cell_type": "code",
   "execution_count": 5,
   "metadata": {},
   "outputs": [],
   "source": [
    "filepath_scores = '../data/raw/csv/howstat/scorecards/'\n",
    "\n",
    "all_scores = glob.glob(os.path.join(filepath_scores, \"*.csv\"))\n",
    "all_scores_to_load = all_scores[:]\n",
    "\n",
    "df_scores_from_each_file = (pd.read_csv(f, index_col=0, parse_dates=[2], infer_datetime_format=True) for f in all_scores_to_load)\n",
    "concatenated_df_scores   = pd.concat(df_scores_from_each_file, ignore_index=True)"
   ]
  },
  {
   "cell_type": "code",
   "execution_count": 6,
   "metadata": {},
   "outputs": [],
   "source": [
    "concatenated_df_scores = concatenated_df_scores[['MatchId', 'MatchInnings', 'Team', 'TeamInnings', 'Player', 'R', 'BF']]\n",
    "concatenated_df_scores['BattingPosition'] = concatenated_df_scores.groupby(['MatchId','MatchInnings', 'Team']).cumcount() + 1"
   ]
  },
  {
   "cell_type": "code",
   "execution_count": 7,
   "metadata": {},
   "outputs": [
    {
     "name": "stdout",
     "output_type": "stream",
     "text": [
      "<class 'pandas.core.frame.DataFrame'>\n",
      "RangeIndex: 113386 entries, 0 to 113385\n",
      "Data columns (total 8 columns):\n",
      " #   Column           Non-Null Count   Dtype  \n",
      "---  ------           --------------   -----  \n",
      " 0   MatchId          113386 non-null  int64  \n",
      " 1   MatchInnings     113386 non-null  int64  \n",
      " 2   Team             113386 non-null  object \n",
      " 3   TeamInnings      113386 non-null  object \n",
      " 4   Player           113386 non-null  object \n",
      " 5   R                113386 non-null  float64\n",
      " 6   BF               113386 non-null  float64\n",
      " 7   BattingPosition  113386 non-null  int64  \n",
      "dtypes: float64(2), int64(3), object(3)\n",
      "memory usage: 6.9+ MB\n"
     ]
    }
   ],
   "source": [
    "concatenated_df_scores.info()"
   ]
  },
  {
   "cell_type": "code",
   "execution_count": 6,
   "metadata": {},
   "outputs": [],
   "source": [
    "#concatenated_df_scores.to_csv('../data/interim/howstat/scorecards/scorecards_all.csv')\n",
    "concatenated_df_scores = pd.read_csv('../data/interim/howstat/scorecards/scorecards_all.csv')"
   ]
  },
  {
   "cell_type": "markdown",
   "metadata": {},
   "source": [
    "### Experiments - Fuzzy Matching\n",
    "\n",
    "\n",
    "We want to get some information from the scorecards into the Fall of Wickets objects. Unfortunately the batter names don't match exactly (scorecards have initials as well). We need to do some fuzzy matching before joining info from the scorecards."
   ]
  },
  {
   "cell_type": "code",
   "execution_count": 52,
   "metadata": {},
   "outputs": [],
   "source": [
    "df_fow_to_merge = concatenated_df_fow[concatenated_df_fow.MatchId<=10]\n",
    "df_scores_to_merge = concatenated_df_scores[concatenated_df_scores.MatchId<=10]"
   ]
  },
  {
   "cell_type": "markdown",
   "metadata": {},
   "source": [
    "#### Method 1: fuzzy wuzzy"
   ]
  },
  {
   "cell_type": "code",
   "execution_count": 13,
   "metadata": {},
   "outputs": [
    {
     "name": "stdout",
     "output_type": "stream",
     "text": [
      "185.5373706817627 seconds\n"
     ]
    },
    {
     "name": "stderr",
     "output_type": "stream",
     "text": [
      "c:\\users\\adam\\documents\\pycharmprojects\\cricsheet\\cricsheet\\src\\cricsheet\\utils.py:19: SettingWithCopyWarning: \n",
      "A value is trying to be set on a copy of a slice from a DataFrame.\n",
      "Try using .loc[row_indexer,col_indexer] = value instead\n",
      "\n",
      "See the caveats in the documentation: https://pandas.pydata.org/pandas-docs/stable/user_guide/indexing.html#returning-a-view-versus-a-copy\n",
      "  df_1['matches'] = m\n",
      "c:\\users\\adam\\documents\\pycharmprojects\\cricsheet\\cricsheet\\src\\cricsheet\\utils.py:22: SettingWithCopyWarning: \n",
      "A value is trying to be set on a copy of a slice from a DataFrame.\n",
      "Try using .loc[row_indexer,col_indexer] = value instead\n",
      "\n",
      "See the caveats in the documentation: https://pandas.pydata.org/pandas-docs/stable/user_guide/indexing.html#returning-a-view-versus-a-copy\n",
      "  df_1['matches'] = m2\n"
     ]
    }
   ],
   "source": [
    "from cricsheet.utils import fuzzy_merge\n",
    "\n",
    "start = time.time()\n",
    "\n",
    "df_merged = fuzzy_merge(df_fow_to_merge, df_scores_to_merge, 'Player', 'Player', 80)\n",
    "\n",
    "end = time.time()\n",
    "time_taken = end - start\n",
    "print(f'{time_taken} seconds')"
   ]
  },
  {
   "cell_type": "markdown",
   "metadata": {},
   "source": [
    "2 seconds for 10 matches.\n",
    "\n",
    "183 seconds for 100 matches. \n",
    "\n",
    "We have 2400 so this won't scale. Estimate: >2hrs to match all."
   ]
  },
  {
   "cell_type": "markdown",
   "metadata": {},
   "source": [
    "#### Method 2: fuzzy-pandas"
   ]
  },
  {
   "cell_type": "code",
   "execution_count": 23,
   "metadata": {},
   "outputs": [
    {
     "name": "stdout",
     "output_type": "stream",
     "text": [
      "51.402904748916626 seconds\n"
     ]
    }
   ],
   "source": [
    "import fuzzy_pandas as fpd\n",
    "\n",
    "start = time.time()\n",
    "\n",
    "matches = fpd.fuzzy_merge(df_fow_to_merge, df_scores_to_merge,\n",
    "                          left_on=['Player'],\n",
    "                          right_on=['Player'], \n",
    "                          method='levenshtein',\n",
    "                          ignore_case=True,\n",
    "                          keep='match', \n",
    "                          join='left-outer', \n",
    "                          threshold=0.3)\n",
    "\n",
    "end = time.time()\n",
    "time_taken = end - start\n",
    "print(f'{time_taken} seconds')"
   ]
  },
  {
   "cell_type": "markdown",
   "metadata": {},
   "source": [
    "15 seconds for 10 matches.\n",
    "\n",
    "51 seconds for 20 matches. \n",
    "\n",
    "We have 2400 so this won't scale. Estimate: >2hrs to match all."
   ]
  },
  {
   "cell_type": "markdown",
   "metadata": {},
   "source": [
    "#### Method 3: difflib"
   ]
  },
  {
   "cell_type": "code",
   "execution_count": 53,
   "metadata": {},
   "outputs": [
    {
     "name": "stdout",
     "output_type": "stream",
     "text": [
      "1.6973652839660645 seconds\n"
     ]
    }
   ],
   "source": [
    "import difflib\n",
    "from functools import partial\n",
    "\n",
    "start = time.time()\n",
    "\n",
    "f = partial(\n",
    "    difflib.get_close_matches, possibilities=df_scores_to_merge['Player'].tolist(), n=1, cutoff=0.3)\n",
    "\n",
    "matches = df_fow_to_merge['Player'].map(f).str[0].fillna('')\n",
    "scores = [\n",
    "    difflib.SequenceMatcher(None, x, y).ratio() \n",
    "    for x, y in zip(matches, df_fow_to_merge['Player'])\n",
    "]\n",
    "\n",
    "df_fuzzy_matched = df_fow_to_merge.assign(best=matches, score=scores)\n",
    "\n",
    "end = time.time()\n",
    "time_taken = end - start\n",
    "print(f'{time_taken} seconds')"
   ]
  },
  {
   "cell_type": "markdown",
   "metadata": {},
   "source": [
    "0.85 seconds for 10 matches.\n",
    "\n",
    "64 seconds for 100 matches.\n",
    "\n",
    "548 seconds for 300 matches."
   ]
  },
  {
   "cell_type": "code",
   "execution_count": 56,
   "metadata": {},
   "outputs": [
    {
     "data": {
      "text/plain": [
       "count    335.000000\n",
       "mean       0.794888\n",
       "std        0.065454\n",
       "min        0.615385\n",
       "25%        0.750000\n",
       "50%        0.800000\n",
       "75%        0.857143\n",
       "max        0.909091\n",
       "Name: score, dtype: float64"
      ]
     },
     "execution_count": 56,
     "metadata": {},
     "output_type": "execute_result"
    }
   ],
   "source": [
    "df_fuzzy_matched['score'].describe()"
   ]
  },
  {
   "cell_type": "markdown",
   "metadata": {},
   "source": [
    "All of the above approaches match all of df_fow with all of df_scorecard.\n",
    "That isn't necessary. We can do it for each Match, since the batters will match for each match."
   ]
  },
  {
   "cell_type": "markdown",
   "metadata": {},
   "source": [
    "### Load and Fuzzy-match a Match at a time"
   ]
  },
  {
   "cell_type": "code",
   "execution_count": 47,
   "metadata": {},
   "outputs": [],
   "source": [
    "import glob\n",
    "import os\n",
    "\n",
    "filepath_scores = '../data/raw/csv/howstat/scorecards/'\n",
    "\n",
    "all_scores = glob.glob(os.path.join(filepath_scores, \"*.csv\"))\n",
    "all_scores_to_load = all_scores[:100]\n",
    "\n",
    "\n",
    "filepath_fow = '../data/raw/csv/howstat/fall_of_wickets/'\n",
    "\n",
    "all_fow = glob.glob(os.path.join(filepath_fow, \"*.csv\"))\n",
    "all_fow_to_load = all_fow[:100]\n"
   ]
  },
  {
   "cell_type": "code",
   "execution_count": 6,
   "metadata": {},
   "outputs": [],
   "source": [
    "import difflib\n",
    "from functools import partial\n",
    "\n",
    "def fuzzy_match(df1, df2, left_on, right_on):\n",
    "    \n",
    "    f = partial(\n",
    "        difflib.get_close_matches, possibilities=df2[right_on].tolist(), n=2, cutoff=0.3)\n",
    "\n",
    "    matches = df1[left_on].map(f).str[0].fillna('')\n",
    "    scores = [\n",
    "        difflib.SequenceMatcher(None, x, y).ratio() \n",
    "        for x, y in zip(matches, df1[left_on])\n",
    "    ]\n",
    "\n",
    "    df_fuzzy_matched = df1.assign(best=matches, score=scores)\n",
    "    \n",
    "    return df_fuzzy_matched"
   ]
  },
  {
   "cell_type": "code",
   "execution_count": 49,
   "metadata": {},
   "outputs": [],
   "source": [
    "# check the match_ids match\n",
    "l_merged_df = []\n",
    "\n",
    "# for each fow file:\n",
    "for i in range(len(all_fow_to_load)):\n",
    "    #print(f'file: {i}')\n",
    "    \n",
    "    # read fow, read scorecard\n",
    "    df_fow = pd.read_csv(all_fow_to_load[i], index_col=0, parse_dates=[2], infer_datetime_format=True)\n",
    "    df_scores = pd.read_csv(all_scores_to_load[i], index_col=0, parse_dates=[2], infer_datetime_format=True)\n",
    "\n",
    "    # select cols in scorecard, rename\n",
    "    df_scores = df_scores[['MatchId', 'MatchInnings', 'Team', 'TeamInnings', 'Player', 'R', 'BF']]\n",
    "    df_scores['BattingPosition'] = df_scores.groupby(['MatchId','MatchInnings', 'Team']).cumcount() + 1\n",
    "    \n",
    "    l_innings = []\n",
    "    for innings in df_fow.MatchInnings.unique():\n",
    "        #print(f'innings: {innings}')\n",
    "        df_fow_innings = df_fow[df_fow.MatchInnings==innings]\n",
    "        df_scores_innings = df_scores[df_scores.MatchInnings==innings]\n",
    "        \n",
    "        # fuzzy match on Player\n",
    "        df_matched_innings = fuzzy_match(df_fow_innings, df_scores_innings, 'Player', 'Player')\n",
    "\n",
    "        # merge cols from scores\n",
    "        df_merged_innings = df_matched_innings.merge(df_scores_innings, \n",
    "                                  how='left', \n",
    "                                  left_on=['MatchId', 'MatchInnings', 'Team', 'TeamInnings', 'best'], \n",
    "                                  right_on=['MatchId', 'MatchInnings', 'Team', 'TeamInnings', 'Player']\n",
    "                                 )\n",
    "\n",
    "        # reformat\n",
    "        df_merged_innings.drop(['Player_x', 'Player_y'], axis=1, inplace=True)\n",
    "        df_merged_innings = df_merged_innings.rename({'best':'Player'}, axis=1)\n",
    "        df_merged_innings['Player'] = df_merged_innings['Player'].apply(lambda x: re.sub('[!,*)@#%(&$_?.^†]', '', x))\n",
    "\n",
    "        l_innings.append(df_merged_innings)        \n",
    "    \n",
    "    df_merged_match = pd.concat(l_innings)\n",
    "    \n",
    "    l_merged_df.append(df_merged_match)\n",
    "    \n"
   ]
  },
  {
   "cell_type": "code",
   "execution_count": 51,
   "metadata": {},
   "outputs": [],
   "source": [
    "df = pd.concat(l_merged_df)"
   ]
  },
  {
   "cell_type": "code",
   "execution_count": 8,
   "metadata": {},
   "outputs": [],
   "source": [
    "from cricsheet.fow_analysis.collapses.preprocess_data import load_all_and_process"
   ]
  },
  {
   "cell_type": "code",
   "execution_count": 9,
   "metadata": {},
   "outputs": [],
   "source": [
    "df = load_all_and_process()"
   ]
  },
  {
   "cell_type": "code",
   "execution_count": 10,
   "metadata": {},
   "outputs": [
    {
     "data": {
      "text/html": [
       "<div>\n",
       "<style scoped>\n",
       "    .dataframe tbody tr th:only-of-type {\n",
       "        vertical-align: middle;\n",
       "    }\n",
       "\n",
       "    .dataframe tbody tr th {\n",
       "        vertical-align: top;\n",
       "    }\n",
       "\n",
       "    .dataframe thead th {\n",
       "        text-align: right;\n",
       "    }\n",
       "</style>\n",
       "<table border=\"1\" class=\"dataframe\">\n",
       "  <thead>\n",
       "    <tr style=\"text-align: right;\">\n",
       "      <th></th>\n",
       "      <th>MatchId</th>\n",
       "      <th>MatchDate</th>\n",
       "      <th>MatchInnings</th>\n",
       "      <th>Team</th>\n",
       "      <th>TeamInnings</th>\n",
       "      <th>Wicket</th>\n",
       "      <th>Runs</th>\n",
       "      <th>Player</th>\n",
       "      <th>score</th>\n",
       "      <th>R</th>\n",
       "      <th>BF</th>\n",
       "      <th>BattingPosition</th>\n",
       "    </tr>\n",
       "  </thead>\n",
       "  <tbody>\n",
       "    <tr>\n",
       "      <th>0</th>\n",
       "      <td>1</td>\n",
       "      <td>1877-03-15</td>\n",
       "      <td>1</td>\n",
       "      <td>Australia</td>\n",
       "      <td>1st</td>\n",
       "      <td>1</td>\n",
       "      <td>2</td>\n",
       "      <td>N Thompson</td>\n",
       "      <td>0.888889</td>\n",
       "      <td>1.0</td>\n",
       "      <td>0.0</td>\n",
       "      <td>2</td>\n",
       "    </tr>\n",
       "    <tr>\n",
       "      <th>1</th>\n",
       "      <td>1</td>\n",
       "      <td>1877-03-15</td>\n",
       "      <td>1</td>\n",
       "      <td>Australia</td>\n",
       "      <td>1st</td>\n",
       "      <td>2</td>\n",
       "      <td>40</td>\n",
       "      <td>T P Horan</td>\n",
       "      <td>0.714286</td>\n",
       "      <td>12.0</td>\n",
       "      <td>0.0</td>\n",
       "      <td>3</td>\n",
       "    </tr>\n",
       "    <tr>\n",
       "      <th>2</th>\n",
       "      <td>1</td>\n",
       "      <td>1877-03-15</td>\n",
       "      <td>1</td>\n",
       "      <td>Australia</td>\n",
       "      <td>1st</td>\n",
       "      <td>3</td>\n",
       "      <td>41</td>\n",
       "      <td>E J Gregory</td>\n",
       "      <td>0.777778</td>\n",
       "      <td>0.0</td>\n",
       "      <td>0.0</td>\n",
       "      <td>7</td>\n",
       "    </tr>\n",
       "    <tr>\n",
       "      <th>3</th>\n",
       "      <td>1</td>\n",
       "      <td>1877-03-15</td>\n",
       "      <td>1</td>\n",
       "      <td>Australia</td>\n",
       "      <td>1st</td>\n",
       "      <td>4</td>\n",
       "      <td>118</td>\n",
       "      <td>B B Cooper</td>\n",
       "      <td>0.750000</td>\n",
       "      <td>15.0</td>\n",
       "      <td>0.0</td>\n",
       "      <td>5</td>\n",
       "    </tr>\n",
       "    <tr>\n",
       "      <th>4</th>\n",
       "      <td>1</td>\n",
       "      <td>1877-03-15</td>\n",
       "      <td>1</td>\n",
       "      <td>Australia</td>\n",
       "      <td>1st</td>\n",
       "      <td>5</td>\n",
       "      <td>142</td>\n",
       "      <td>W E Midwinter</td>\n",
       "      <td>0.818182</td>\n",
       "      <td>5.0</td>\n",
       "      <td>0.0</td>\n",
       "      <td>6</td>\n",
       "    </tr>\n",
       "    <tr>\n",
       "      <th>...</th>\n",
       "      <td>...</td>\n",
       "      <td>...</td>\n",
       "      <td>...</td>\n",
       "      <td>...</td>\n",
       "      <td>...</td>\n",
       "      <td>...</td>\n",
       "      <td>...</td>\n",
       "      <td>...</td>\n",
       "      <td>...</td>\n",
       "      <td>...</td>\n",
       "      <td>...</td>\n",
       "      <td>...</td>\n",
       "    </tr>\n",
       "    <tr>\n",
       "      <th>2</th>\n",
       "      <td>1088</td>\n",
       "      <td>1987-12-11</td>\n",
       "      <td>3</td>\n",
       "      <td>New Zealand</td>\n",
       "      <td>2nd</td>\n",
       "      <td>3</td>\n",
       "      <td>77</td>\n",
       "      <td>M D Crowe</td>\n",
       "      <td>1.000000</td>\n",
       "      <td>8.0</td>\n",
       "      <td>34.0</td>\n",
       "      <td>4</td>\n",
       "    </tr>\n",
       "    <tr>\n",
       "      <th>3</th>\n",
       "      <td>1088</td>\n",
       "      <td>1987-12-11</td>\n",
       "      <td>3</td>\n",
       "      <td>New Zealand</td>\n",
       "      <td>2nd</td>\n",
       "      <td>4</td>\n",
       "      <td>139</td>\n",
       "      <td>A H Jones</td>\n",
       "      <td>0.714286</td>\n",
       "      <td>64.0</td>\n",
       "      <td>137.0</td>\n",
       "      <td>3</td>\n",
       "    </tr>\n",
       "    <tr>\n",
       "      <th>4</th>\n",
       "      <td>1088</td>\n",
       "      <td>1987-12-11</td>\n",
       "      <td>3</td>\n",
       "      <td>New Zealand</td>\n",
       "      <td>2nd</td>\n",
       "      <td>5</td>\n",
       "      <td>153</td>\n",
       "      <td>D N Patel</td>\n",
       "      <td>0.714286</td>\n",
       "      <td>40.0</td>\n",
       "      <td>113.0</td>\n",
       "      <td>5</td>\n",
       "    </tr>\n",
       "    <tr>\n",
       "      <th>5</th>\n",
       "      <td>1088</td>\n",
       "      <td>1987-12-11</td>\n",
       "      <td>3</td>\n",
       "      <td>New Zealand</td>\n",
       "      <td>2nd</td>\n",
       "      <td>6</td>\n",
       "      <td>170</td>\n",
       "      <td>E J Gray</td>\n",
       "      <td>0.666667</td>\n",
       "      <td>14.0</td>\n",
       "      <td>68.0</td>\n",
       "      <td>6</td>\n",
       "    </tr>\n",
       "    <tr>\n",
       "      <th>6</th>\n",
       "      <td>1088</td>\n",
       "      <td>1987-12-11</td>\n",
       "      <td>3</td>\n",
       "      <td>New Zealand</td>\n",
       "      <td>2nd</td>\n",
       "      <td>7</td>\n",
       "      <td>179</td>\n",
       "      <td>I D S Smith</td>\n",
       "      <td>0.588235</td>\n",
       "      <td>5.0</td>\n",
       "      <td>8.0</td>\n",
       "      <td>8</td>\n",
       "    </tr>\n",
       "  </tbody>\n",
       "</table>\n",
       "<p>2885 rows × 12 columns</p>\n",
       "</div>"
      ],
      "text/plain": [
       "    MatchId  MatchDate  MatchInnings         Team TeamInnings  Wicket  Runs  \\\n",
       "0         1 1877-03-15             1    Australia         1st       1     2   \n",
       "1         1 1877-03-15             1    Australia         1st       2    40   \n",
       "2         1 1877-03-15             1    Australia         1st       3    41   \n",
       "3         1 1877-03-15             1    Australia         1st       4   118   \n",
       "4         1 1877-03-15             1    Australia         1st       5   142   \n",
       "..      ...        ...           ...          ...         ...     ...   ...   \n",
       "2      1088 1987-12-11             3  New Zealand         2nd       3    77   \n",
       "3      1088 1987-12-11             3  New Zealand         2nd       4   139   \n",
       "4      1088 1987-12-11             3  New Zealand         2nd       5   153   \n",
       "5      1088 1987-12-11             3  New Zealand         2nd       6   170   \n",
       "6      1088 1987-12-11             3  New Zealand         2nd       7   179   \n",
       "\n",
       "           Player     score     R     BF  BattingPosition  \n",
       "0      N Thompson  0.888889   1.0    0.0                2  \n",
       "1       T P Horan  0.714286  12.0    0.0                3  \n",
       "2     E J Gregory  0.777778   0.0    0.0                7  \n",
       "3      B B Cooper  0.750000  15.0    0.0                5  \n",
       "4   W E Midwinter  0.818182   5.0    0.0                6  \n",
       "..            ...       ...   ...    ...              ...  \n",
       "2       M D Crowe  1.000000   8.0   34.0                4  \n",
       "3       A H Jones  0.714286  64.0  137.0                3  \n",
       "4       D N Patel  0.714286  40.0  113.0                5  \n",
       "5        E J Gray  0.666667  14.0   68.0                6  \n",
       "6     I D S Smith  0.588235   5.0    8.0                8  \n",
       "\n",
       "[2885 rows x 12 columns]"
      ]
     },
     "execution_count": 10,
     "metadata": {},
     "output_type": "execute_result"
    }
   ],
   "source": [
    "df"
   ]
  },
  {
   "cell_type": "code",
   "execution_count": 5,
   "metadata": {},
   "outputs": [
    {
     "name": "stdout",
     "output_type": "stream",
     "text": [
      "1.5598597526550293 seconds\n"
     ]
    }
   ],
   "source": [
    "start = time.time()\n",
    "\n",
    "df_grouped = df.groupby(['MatchId','MatchInnings', 'Team']).apply(return_collapses).reset_index()\n",
    "\n",
    "end = time.time()\n",
    "time_taken = end - start\n",
    "print(f'{time_taken} seconds')"
   ]
  },
  {
   "cell_type": "code",
   "execution_count": 76,
   "metadata": {},
   "outputs": [],
   "source": [
    "df_grouped.to_csv('../data/processed/collapses/all_collapses.csv')"
   ]
  }
 ],
 "metadata": {
  "kernelspec": {
   "display_name": "Python 3",
   "language": "python",
   "name": "python3"
  },
  "language_info": {
   "codemirror_mode": {
    "name": "ipython",
    "version": 3
   },
   "file_extension": ".py",
   "mimetype": "text/x-python",
   "name": "python",
   "nbconvert_exporter": "python",
   "pygments_lexer": "ipython3",
   "version": "3.8.5"
  }
 },
 "nbformat": 4,
 "nbformat_minor": 4
}
